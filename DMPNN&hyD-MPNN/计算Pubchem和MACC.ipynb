{
 "cells": [
  {
   "cell_type": "code",
   "execution_count": 16,
   "id": "4300f3ba",
   "metadata": {},
   "outputs": [],
   "source": [
    "import pandas as pd\n",
    "from rdkit import rdBase, Chem, DataStructs\n",
    "from rdkit.Avalon import pyAvalonTools\n",
    "from rdkit.Chem import AllChem, Draw\n",
    "from rdkit.Chem.Fingerprints import FingerprintMols\n",
    "from rdkit.Chem.AtomPairs import Pairs, Torsions\n",
    "from rdkit.Chem.Draw import SimilarityMaps\n",
    "import rdkit"
   ]
  },
  {
   "cell_type": "code",
   "execution_count": 12,
   "id": "ae112a99",
   "metadata": {},
   "outputs": [],
   "source": [
    "mol = Chem.MolFromSmiles('CCCCCC=CCCC(=O)NC1C(O)C(O)C(CO)OC1OC1=C2OC3=CC=C(C=C3Cl)C(OC3OC(CO)C(O)C(O)C3NC(C)=O)C3NC(=O)C(NC(=O)C4NC(=O)C5NC(=O)C(CC6=CC=C(OC1=CC4=C2)C(Cl)=C6)NC(=O)C(N)C1=CC=C(O)C(OC2=CC5=CC(O)=C2)=C1)C1=CC=C(O)C(=C1)C1=C(C=C(O)C=C1OC1OC(CO)C(O)C(O)C1O)C(NC3=O)C(O)=O')"
   ]
  },
  {
   "cell_type": "code",
   "execution_count": 23,
   "id": "8f322ade",
   "metadata": {},
   "outputs": [],
   "source": [
    "fp = MACCSkeys.GenMACCSKeys(mol)\n",
    "a = pd.DataFrame({'MSCC':[int(b) for b in fp.ToBitString()]})"
   ]
  },
  {
   "cell_type": "code",
   "execution_count": 24,
   "id": "90c09e10",
   "metadata": {},
   "outputs": [],
   "source": [
    "a.to_csv('test.csv',index=False)"
   ]
  },
  {
   "cell_type": "code",
   "execution_count": 6,
   "id": "43ff8bef",
   "metadata": {},
   "outputs": [
    {
     "data": {
      "text/plain": [
       "[Compound(131887309)]"
      ]
     },
     "execution_count": 6,
     "metadata": {},
     "output_type": "execute_result"
    }
   ],
   "source": [
    "import pubchempy as pcp\n",
    "a = pcp.get_compounds('CCCCCC=CCCC(=O)NC1C(O)C(O)C(CO)OC1OC1=C2OC3=CC=C(C=C3Cl)C(OC3OC(CO)C(O)C(O)C3NC(C)=O)C3NC(=O)C(NC(=O)C4NC(=O)C5NC(=O)C(CC6=CC=C(OC1=CC4=C2)C(Cl)=C6)NC(=O)C(N)C1=CC=C(O)C(OC2=CC5=CC(O)=C2)=C1)C1=CC=C(O)C(=C1)C1=C(C=C(O)C=C1OC1OC(CO)C(O)C(O)C1O)C(NC3=O)C(O)=O', 'smiles')\n",
    "a"
   ]
  },
  {
   "cell_type": "code",
   "execution_count": 28,
   "id": "15fd9fb4",
   "metadata": {},
   "outputs": [],
   "source": [
    "cou = pcp.Compound.from_cid(131887309)\n",
    "pubchem = cou.cactvs_fingerprint"
   ]
  },
  {
   "cell_type": "code",
   "execution_count": 29,
   "id": "96f1da16",
   "metadata": {},
   "outputs": [
    {
     "data": {
      "text/html": [
       "<div>\n",
       "<style scoped>\n",
       "    .dataframe tbody tr th:only-of-type {\n",
       "        vertical-align: middle;\n",
       "    }\n",
       "\n",
       "    .dataframe tbody tr th {\n",
       "        vertical-align: top;\n",
       "    }\n",
       "\n",
       "    .dataframe thead th {\n",
       "        text-align: right;\n",
       "    }\n",
       "</style>\n",
       "<table border=\"1\" class=\"dataframe\">\n",
       "  <thead>\n",
       "    <tr style=\"text-align: right;\">\n",
       "      <th></th>\n",
       "      <th>pubchem</th>\n",
       "    </tr>\n",
       "  </thead>\n",
       "  <tbody>\n",
       "    <tr>\n",
       "      <th>0</th>\n",
       "      <td>1</td>\n",
       "    </tr>\n",
       "    <tr>\n",
       "      <th>1</th>\n",
       "      <td>1</td>\n",
       "    </tr>\n",
       "    <tr>\n",
       "      <th>2</th>\n",
       "      <td>1</td>\n",
       "    </tr>\n",
       "    <tr>\n",
       "      <th>3</th>\n",
       "      <td>1</td>\n",
       "    </tr>\n",
       "    <tr>\n",
       "      <th>4</th>\n",
       "      <td>0</td>\n",
       "    </tr>\n",
       "    <tr>\n",
       "      <th>...</th>\n",
       "      <td>...</td>\n",
       "    </tr>\n",
       "    <tr>\n",
       "      <th>876</th>\n",
       "      <td>0</td>\n",
       "    </tr>\n",
       "    <tr>\n",
       "      <th>877</th>\n",
       "      <td>0</td>\n",
       "    </tr>\n",
       "    <tr>\n",
       "      <th>878</th>\n",
       "      <td>0</td>\n",
       "    </tr>\n",
       "    <tr>\n",
       "      <th>879</th>\n",
       "      <td>0</td>\n",
       "    </tr>\n",
       "    <tr>\n",
       "      <th>880</th>\n",
       "      <td>0</td>\n",
       "    </tr>\n",
       "  </tbody>\n",
       "</table>\n",
       "<p>881 rows × 1 columns</p>\n",
       "</div>"
      ],
      "text/plain": [
       "     pubchem\n",
       "0          1\n",
       "1          1\n",
       "2          1\n",
       "3          1\n",
       "4          0\n",
       "..       ...\n",
       "876        0\n",
       "877        0\n",
       "878        0\n",
       "879        0\n",
       "880        0\n",
       "\n",
       "[881 rows x 1 columns]"
      ]
     },
     "execution_count": 29,
     "metadata": {},
     "output_type": "execute_result"
    }
   ],
   "source": [
    "a = pd.DataFrame({'pubchem':[int(b) for b in pubchem]})\n",
    "a"
   ]
  },
  {
   "cell_type": "code",
   "execution_count": 30,
   "id": "024f5e65",
   "metadata": {},
   "outputs": [],
   "source": [
    "a.to_csv('test.csv',index=False)"
   ]
  },
  {
   "cell_type": "code",
   "execution_count": null,
   "id": "ec2b9e4f",
   "metadata": {},
   "outputs": [],
   "source": []
  }
 ],
 "metadata": {
  "kernelspec": {
   "display_name": "Python [conda env:chemprop]",
   "language": "python",
   "name": "conda-env-chemprop-py"
  },
  "language_info": {
   "codemirror_mode": {
    "name": "ipython",
    "version": 3
   },
   "file_extension": ".py",
   "mimetype": "text/x-python",
   "name": "python",
   "nbconvert_exporter": "python",
   "pygments_lexer": "ipython3",
   "version": "3.7.13"
  }
 },
 "nbformat": 4,
 "nbformat_minor": 5
}
