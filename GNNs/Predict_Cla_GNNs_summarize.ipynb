{
 "cells": [
  {
   "cell_type": "code",
   "execution_count": 1,
   "id": "544f7efc",
   "metadata": {},
   "outputs": [
    {
     "name": "stderr",
     "output_type": "stream",
     "text": [
      "/home/admin/anaconda3/envs/dgllife/lib/python3.6/site-packages/tqdm/auto.py:22: TqdmWarning: IProgress not found. Please update jupyter and ipywidgets. See https://ipywidgets.readthedocs.io/en/stable/user_install.html\n",
      "  from .autonotebook import tqdm as notebook_tqdm\n"
     ]
    }
   ],
   "source": [
    "# -*- coding: utf-8 -*-\n",
    "#\n",
    "# Copyright Amazon.com, Inc. or its affiliates. All Rights Reserved.\n",
    "# SPDX-License-Identifier: Apache-2.0\n",
    "import json\n",
    "import os\n",
    "import pandas as pd\n",
    "import torch\n",
    "import numpy as np\n",
    "from dgllife.data import UnlabeledSMILES\n",
    "from dgllife.utils import mol_to_bigraph\n",
    "from functools import partial\n",
    "from torch.utils.data import DataLoader\n",
    "from tqdm import tqdm\n",
    "from utils import mkdir_p, collate_molgraphs_unlabeled, load_model, predict, init_featurizer\n",
    "from sklearn.metrics import roc_curve,roc_auc_score, confusion_matrix, precision_recall_curve, auc, mean_squared_error, \\\n",
    "    r2_score, mean_absolute_error,cohen_kappa_score,accuracy_score,f1_score,matthews_corrcoef,precision_score,recall_score\n",
    "\n",
    "# the metrics for classification\n",
    "class AllMeter(object):\n",
    "    \n",
    "    def statistical(self):\n",
    "        \n",
    "        y_test = pd.DataFrame(self.y_test)\n",
    "        y_predict = pd.DataFrame(self.y_predict)\n",
    "        fpr, tpr, threshold = roc_curve(y_test, y_predict)\n",
    "        auc_prc = auc(precision_recall_curve(y_test, y_predict, pos_label=1)[1],\n",
    "                              precision_recall_curve(y_test, y_predict, pos_label=1)[0])\n",
    "        auc_roc = auc(fpr, tpr)\n",
    "        output_tran = []\n",
    "        for x in y_predict[0]:\n",
    "            if x > 0.5:\n",
    "                output_tran.append(1)\n",
    "            else:\n",
    "                output_tran.append(0)\n",
    "        acc = accuracy_score(y_test, output_tran)\n",
    "        recall = recall_score(y_test, output_tran)\n",
    "        precision = precision_score(y_test, output_tran)\n",
    "        f1 = f1_score(y_test, output_tran)\n",
    "        kappa = cohen_kappa_score(y_test,output_tran)   \n",
    "        mcc = matthews_corrcoef(y_test,output_tran)\n",
    "        \n",
    "        c_mat = confusion_matrix(y_test, output_tran)            \n",
    "        tn, fp, fn, tp = list(c_mat.flatten())\n",
    "        se = tp / (tp + fn)\n",
    "        sp = tn / (tn + fp)\n",
    "        acc_ = (tp + tn) / (tn + fp + fn + tp)          \n",
    "        recall_ = se\n",
    "        print({'tn':tn, 'fp':fp, 'fn':fn, 'tp':tp})\n",
    "        print(tp / (tp + fp))\n",
    "        precision_ = tp / (tp + fp)\n",
    "        f1_ = 2 * (precision * recall) / (precision + recall) # F1 = 2 * (precision * recall) / (precision + recall)\n",
    "        mcc_ = (tp * tn - fp * fn) / np.sqrt((tp + fp) * (tp + fn) * (tn + fp) * (tn + fn) + 1e-8)\n",
    "        scores_dict = {}\n",
    "        scores_dict['acc'] = acc\n",
    "        scores_dict['auc_roc'] = auc_roc\n",
    "        scores_dict['recall'] = recall\n",
    "        scores_dict['precision'] = precision\n",
    "        scores_dict['f1'] = f1\n",
    "        scores_dict['kappa'] = kappa\n",
    "        scores_dict['mcc'] = mcc \n",
    "        scores_dict['auc_prc'] = auc_prc\n",
    "        import collections\n",
    "        scores_dict = collections.OrderedDict(scores_dict)\n",
    "        print(scores_dict) \n",
    "        print({'混淆矩阵 acc':acc_,'recall_':recall_,'precision_':precision_,'f1_':f1_,'mcc_':mcc_})\n",
    "        return scores_dict\n",
    "         \n",
    "    \n",
    "    def __init__(self, mean=None, std=None):\n",
    "        self.y_predict = []\n",
    "        self.y_test = []\n",
    "            \n",
    "    def update(self, output, label, mask=None):\n",
    "            output = torch.sigmoid(output)\n",
    "            output = output.cpu().detach().numpy()\n",
    "            label = np.array(label)\n",
    "            for i in output:\n",
    "                self.y_predict.append(i)\n",
    "            for j in label:\n",
    "                self.y_test.append(j)        \n",
    "    def compute_metric(self, metric_name, reduction='mean'):\n",
    "        if metric_name == 'getAllMetrics':\n",
    "            return self.statistical()\n",
    "\n",
    "def main(args):\n",
    "    all_eval_meter = AllMeter()\n",
    "    dataset = UnlabeledSMILES(args['smiles'], node_featurizer=args['node_featurizer'],\n",
    "                              edge_featurizer=args['edge_featurizer'],\n",
    "                              mol_to_graph=partial(mol_to_bigraph, add_self_loop=True))\n",
    "#   batch size must be greater than or equal to predict data size\n",
    "    dataloader = DataLoader(dataset, batch_size=args['batch_size'],\n",
    "                            collate_fn=collate_molgraphs_unlabeled, num_workers=args['num_workers'])\n",
    "    model = load_model(args).to(args['device'])\n",
    "    checkpoint = torch.load(args['train_result_path'], map_location='cpu')\n",
    "    model.load_state_dict(checkpoint['model_state_dict'])\n",
    "    model.eval()\n",
    "    smiles_list = []\n",
    "    predictions = []\n",
    "    y_predict = []\n",
    "    with torch.no_grad():\n",
    "        for batch_id, batch_data in enumerate(tqdm(dataloader, desc=\"Iteration\")):\n",
    "            batch_smiles, bg = batch_data\n",
    "            smiles_list.extend(batch_smiles)\n",
    "            batch_pred = predict(args, model, bg)\n",
    "            labels = pd.read_csv(args['file_path'])[args['task_names']].tolist()\n",
    "            all_eval_meter.update(batch_pred, labels, mask=None)\n",
    "            output = torch.sigmoid(batch_pred)\n",
    "            output = output.cpu().detach().numpy()\n",
    "            for i in output:\n",
    "                predictions.append(i)     \n",
    "    y_predict = pd.DataFrame(predictions)\n",
    "    output_tran = []\n",
    "    for x in y_predict[0]:\n",
    "        if x > 0.5:\n",
    "            output_tran.append(1)\n",
    "        else:\n",
    "            output_tran.append(0)\n",
    "    all_scores = all_eval_meter.compute_metric('getAllMetrics')\n",
    "    return y_predict,output_tran,all_scores"
   ]
  },
  {
   "cell_type": "code",
   "execution_count": 2,
   "id": "93461f14",
   "metadata": {},
   "outputs": [],
   "source": [
    "def loadConfiguration(args_interface):\n",
    "# Load configuration\n",
    "    with open(args_interface['train_result_path'] + '/configure.json', 'r') as f:\n",
    "        args_interface.update(json.load(f))\n",
    "\n",
    "    if torch.cuda.is_available():\n",
    "        args_interface['device'] = torch.device('cuda:0')\n",
    "    else:\n",
    "        args_interface['device'] = torch.device('cpu')\n",
    "\n",
    "    if args_interface['file_path'].endswith('.csv') or args_interface['file_path'].endswith('.csv.gz'):\n",
    "        import pandas\n",
    "        df = pandas.read_csv(args_interface['file_path'])\n",
    "        if args_interface['smiles_column'] is not None:\n",
    "            smiles = df[args_interface['smiles_column']].tolist()\n",
    "        else:\n",
    "            assert len(df.columns) == 1, 'The CSV file has more than 1 columns and ' \\\n",
    "                                         '-sc (smiles-column) needs to be specified.'\n",
    "            smiles = df[df.columns[0]].tolist()\n",
    "    elif args_interface['file_path'].endswith('.txt'):\n",
    "        from dgllife.utils import load_smiles_from_txt\n",
    "        smiles = load_smiles_from_txt(args_interface['file_path'])\n",
    "    else:\n",
    "        raise ValueError('Expect the input data file to be a .csv or a .txt file, '\n",
    "                         'got {}'.format(args_interface['file_path']))\n",
    "    args_interface['smiles'] = smiles\n",
    "    args_interface = init_featurizer(args_interface)\n",
    "\n",
    "    # Handle directories\n",
    "    mkdir_p(args_interface['inference_result_path'])\n",
    "    assert os.path.exists(args_interface['train_result_path']), \\\n",
    "        'The path to the saved training results does not exist.'\n",
    "    return args_interface"
   ]
  },
  {
   "cell_type": "code",
   "execution_count": 3,
   "id": "2f18b6e9",
   "metadata": {},
   "outputs": [],
   "source": [
    "from sklearn.metrics import roc_curve,roc_auc_score, confusion_matrix, precision_recall_curve, auc, mean_squared_error, \\\n",
    "    r2_score, mean_absolute_error,cohen_kappa_score,accuracy_score,f1_score,matthews_corrcoef,precision_score,recall_score\n",
    "\n",
    "def getMetric(label, pre):\n",
    "    return accuracy_score(label, pre)"
   ]
  },
  {
   "cell_type": "code",
   "execution_count": 4,
   "id": "66167f6f",
   "metadata": {},
   "outputs": [],
   "source": [
    "def getResults(args_interface,modelName,repetitions,path):\n",
    "    predict_data = pd.DataFrame()\n",
    "    pre_result = []\n",
    "    pre_scores = []\n",
    "    for i in range(repetitions):\n",
    "        args_interface['train_result_path'] = path\n",
    "        args_interface['train_result_path'] = path+'/saved_model/{}{}.pth'.format(modelName,i+1)\n",
    "        y_predictPro,y_predict,all_scores = main(args_interface)\n",
    "        y_test = pd.read_csv(args_interface['file_path'])[args_interface['task_names']].tolist()\n",
    "        acc = getMetric(y_test, y_predict)\n",
    "        pre_result.append(acc)\n",
    "        pre_scores.append(all_scores)\n",
    "        predict_data['smiles'] = args_interface['smiles']\n",
    "        predict_data['Test'] = y_test\n",
    "        predict_data['label_model_'+str(i+1)] = y_predictPro\n",
    "\n",
    "    print('acc:{}±{}'.format(np.mean(pre_result),np.std(pre_result)))\n",
    "    with open(args_interface['inference_result_path'] + '/output_GAT.txt', 'w') as f:\n",
    "        f.write('acc:{}±{}'.format(np.mean(pre_result),np.std(pre_result)))\n",
    "    print(args_interface['inference_result_path'])\n",
    "\n",
    "    data_df = pd.DataFrame(pre_scores)\n",
    "    data_df.loc['Mean'] = data_df.mean()\n",
    "    data_df.loc['Std'] = data_df.std()\n",
    "    data_df.to_csv(args_interface['inference_result_path']+'predict_result.csv',index = False)\n",
    "    predict_data['label'] = predict_data.iloc[:,2:].mean(axis=1)\n",
    "    predict_data.to_csv(args_interface['inference_result_path']+'predict_data.csv',index = False)\n",
    "    return data_df,predict_data"
   ]
  },
  {
   "cell_type": "code",
   "execution_count": 5,
   "id": "ed1639e2",
   "metadata": {},
   "outputs": [],
   "source": [
    "def statistical(y_true, y_pred, y_pro):\n",
    "    c_mat = confusion_matrix(y_true, y_pred)\n",
    "    tn, fp, fn, tp = list(c_mat.flatten())\n",
    "    se = tp / (tp + fn)\n",
    "    sp = tn / (tn + fp)\n",
    "    auc_prc = auc(precision_recall_curve(y_true, y_pro, pos_label=1)[1],\n",
    "                  precision_recall_curve(y_true, y_pro, pos_label=1)[0])\n",
    "    acc = (tp + tn) / (tn + fp + fn + tp)\n",
    "#     acc_skl = accuracy_score(y_true, y_pred)\n",
    "    auc_roc = roc_auc_score(y_true, y_pro)\n",
    "    recall = se\n",
    "#     recall_skl = recall_score(y_true, y_pred)\n",
    "    precision = tp / (tp + fp)\n",
    "#     precision_skl = precision_score(y_true, y_pred)\n",
    "    f1 = 2 * (precision * recall) / (precision + recall) # F1 = 2 * (precision * recall) / (precision + recall)\n",
    "#     f1_skl = f1_score(y_true, y_pred)\n",
    "    kappa = cohen_kappa_score(y_true,y_pred)\n",
    "    mcc = (tp * tn - fp * fn) / np.sqrt((tp + fp) * (tp + fn) * (tn + fp) * (tn + fn) + 1e-8)\n",
    "#     mcc_skl = matthews_corrcoef(y_true,y_pred)\n",
    "\n",
    "    acc = accuracy_score(y_true, y_pred)\n",
    "    recall = recall_score(y_true, y_pred)\n",
    "    precision = precision_score(y_true, y_pred)\n",
    "    f1 = f1_score(y_true, y_pred)\n",
    "    kappa = cohen_kappa_score(y_true, y_pred)   \n",
    "    mcc = matthews_corrcoef(y_true, y_pred)\n",
    "\n",
    "    scores_dict = {}\n",
    "    scores_dict['acc'] = acc\n",
    "    scores_dict['auc_roc'] = auc_roc\n",
    "    scores_dict['recall'] = recall\n",
    "    scores_dict['precision'] = precision\n",
    "    scores_dict['f1'] = f1\n",
    "    scores_dict['kappa'] = kappa\n",
    "    scores_dict['mcc'] = mcc \n",
    "    scores_dict['auc_prc'] = auc_prc\n",
    "    import collections\n",
    "    scores_dict = collections.OrderedDict(scores_dict)\n",
    "    \n",
    "    return scores_dict\n",
    "\n",
    "def GetPreditcTable(preDate,tureData,name,result_path):\n",
    "    smiles = tureData['smiles'].to_list()\n",
    "    y_true = tureData['label'].to_list()\n",
    "    repetitions = 10\n",
    "    predict_data = pd.DataFrame()\n",
    "    predict_data['smiles'] = smiles\n",
    "    predict_data['Test'] = y_true\n",
    "    pre_scores = []\n",
    "    y_pro_avg = preDate['label']\n",
    "    y_pred_avg = [1 if p > 0.5 else 0 for p in y_pro_avg]  \n",
    "    avg_scores_dict = statistical(y_true, y_pred_avg, y_pro_avg)\n",
    "    avg_scores_dict = pd.DataFrame(avg_scores_dict,index=['avg'])\n",
    "    for i in range(repetitions):\n",
    "        y_pro = preDate['label_model_'+str(i+1)]\n",
    "        y_pred = [1 if p > 0.5 else 0 for p in y_pro]\n",
    "        predict_data['label_model_'+str(i+1)] = y_pred\n",
    "        scores_dict = statistical(y_true, y_pred, y_pro)\n",
    "        pre_scores.append(scores_dict)\n",
    "   \n",
    "    predict_data['label'] =  y_pred_avg\n",
    "    predict_data.to_csv(result_path+name+'_Cal_Metric_Data_bak.csv',index = False)\n",
    "    \n",
    "    data_df = pd.DataFrame(pre_scores)\n",
    "    data_df.loc['Mean'] = data_df.mean()\n",
    "    data_df.loc['Std'] = data_df.std()\n",
    "    data_df = pd.concat([data_df, avg_scores_dict], axis=0)\n",
    "    data_df.to_csv(result_path+name+'_Cal_Metric_Summarize.csv',index = False)\n",
    "    return data_df"
   ]
  },
  {
   "cell_type": "code",
   "execution_count": 6,
   "id": "cc8f9a42",
   "metadata": {},
   "outputs": [
    {
     "data": {
      "text/plain": [
       "_StoreAction(option_strings=['-nw', '--num-workers'], dest='num_workers', nargs=None, const=None, default=1, type=<class 'int'>, choices=None, help='Number of processes for data loading (default: 1)', metavar=None)"
      ]
     },
     "execution_count": 6,
     "metadata": {},
     "output_type": "execute_result"
    }
   ],
   "source": [
    "import argparse\n",
    "parser = argparse.ArgumentParser()\n",
    "parser.add_argument('-f', '--file-path', type=str, required=True,\n",
    "                    help='Path to a .csv/.txt file of SMILES strings')\n",
    "parser.add_argument('-sc', '--smiles-column', type=str,\n",
    "                    help='Header for the SMILES column in the CSV file, can be '\n",
    "                         'omitted if the input file is a .txt file or the .csv '\n",
    "                         'file only has one column of SMILES strings')\n",
    "parser.add_argument('-tp', '--train-result-path', type=str, default='classification_results',\n",
    "                    help='Path to the saved training results, which will be used for '\n",
    "                         'loading the trained model and related configurations')\n",
    "parser.add_argument('-ip', '--inference-result-path', type=str, default='classification_inference_results',\n",
    "                    help='Path to save the inference results')\n",
    "parser.add_argument('-t', '--task-names',type=str,\n",
    "                    help='Task names for saving model predictions in the CSV file to output, '\n",
    "                         'which should be the same as the ones used for training. If not '\n",
    "                         'specified, we will simply use task1, task2, ...')\n",
    "parser.add_argument('-s', '--soft-classification', action='store_true', default=False,\n",
    "                    help='By default we will perform hard classification with binary labels. '\n",
    "                         'This flag allows performing soft classification instead.')\n",
    "parser.add_argument('-nw', '--num-workers', type=int, default=1,\n",
    "                    help='Number of processes for data loading (default: 1)')"
   ]
  },
  {
   "cell_type": "code",
   "execution_count": 7,
   "id": "753893a3",
   "metadata": {},
   "outputs": [],
   "source": [
    "args_interface = parser.parse_args(args=['--file-path','predict_data/6_pre_32_AR_剔除NURA重复数据.csv',\n",
    "                               '--smiles-column','smiles',\n",
    "                               '--task-names','label',\n",
    "                               '--train-result-path','result/6108_AR_NURA_MPNN_0920',\n",
    "                               '--inference-result-path','predict_result/6108_AR_pre_32_AR_10_MPNN_1008/'                              \n",
    "                                  ]).__dict__\n",
    "\n",
    "tureData = pd.read_csv(args_interface['file_path'])"
   ]
  },
  {
   "cell_type": "code",
   "execution_count": 8,
   "id": "f9ee74e4",
   "metadata": {
    "scrolled": true
   },
   "outputs": [
    {
     "name": "stdout",
     "output_type": "stream",
     "text": [
      "Directory predict_result/6108_AR_pre_32_AR_10_MPNN_1008/ already exists.\n"
     ]
    },
    {
     "name": "stderr",
     "output_type": "stream",
     "text": [
      "Iteration: 100%|██████████| 1/1 [00:00<00:00,  2.80it/s]\n"
     ]
    },
    {
     "name": "stdout",
     "output_type": "stream",
     "text": [
      "{'tn': 11, 'fp': 6, 'fn': 9, 'tp': 6}\n",
      "0.5\n",
      "OrderedDict([('acc', 0.53125), ('auc_roc', 0.5764705882352941), ('recall', 0.4), ('precision', 0.5), ('f1', 0.4444444444444445), ('kappa', 0.04761904761904767), ('mcc', 0.048507125007266595), ('auc_prc', 0.5787615242261382)])\n",
      "{'混淆矩阵 acc': 0.53125, 'recall_': 0.4, 'precision_': 0.5, 'f1_': 0.4444444444444445, 'mcc_': 0.04850712500726263}\n"
     ]
    },
    {
     "name": "stderr",
     "output_type": "stream",
     "text": [
      "Iteration: 100%|██████████| 1/1 [00:00<00:00, 18.23it/s]\n"
     ]
    },
    {
     "name": "stdout",
     "output_type": "stream",
     "text": [
      "{'tn': 16, 'fp': 1, 'fn': 12, 'tp': 3}\n",
      "0.75\n",
      "OrderedDict([('acc', 0.59375), ('auc_roc', 0.5882352941176471), ('recall', 0.2), ('precision', 0.75), ('f1', 0.31578947368421056), ('kappa', 0.14754098360655743), ('mcc', 0.2130214807490179), ('auc_prc', 0.6504846982320749)])\n",
      "{'混淆矩阵 acc': 0.59375, 'recall_': 0.2, 'precision_': 0.75, 'f1_': 0.31578947368421056, 'mcc_': 0.21302148074898059}\n"
     ]
    },
    {
     "name": "stderr",
     "output_type": "stream",
     "text": [
      "Iteration: 100%|██████████| 1/1 [00:00<00:00, 18.49it/s]\n"
     ]
    },
    {
     "name": "stdout",
     "output_type": "stream",
     "text": [
      "{'tn': 6, 'fp': 11, 'fn': 4, 'tp': 11}\n",
      "0.5\n",
      "OrderedDict([('acc', 0.53125), ('auc_roc', 0.5294117647058824), ('recall', 0.7333333333333333), ('precision', 0.5), ('f1', 0.5945945945945945), ('kappa', 0.08396946564885499), ('mcc', 0.09288407280256479), ('auc_prc', 0.4653958742529767)])\n",
      "{'混淆矩阵 acc': 0.53125, 'recall_': 0.7333333333333333, 'precision_': 0.5, 'f1_': 0.5945945945945945, 'mcc_': 0.09288407280255652}\n"
     ]
    },
    {
     "name": "stderr",
     "output_type": "stream",
     "text": [
      "Iteration: 100%|██████████| 1/1 [00:00<00:00, 18.44it/s]\n"
     ]
    },
    {
     "name": "stdout",
     "output_type": "stream",
     "text": [
      "{'tn': 11, 'fp': 6, 'fn': 13, 'tp': 2}\n",
      "0.25\n",
      "OrderedDict([('acc', 0.40625), ('auc_roc', 0.32156862745098036), ('recall', 0.13333333333333333), ('precision', 0.25), ('f1', 0.1739130434782609), ('kappa', -0.22580645161290325), ('mcc', -0.25308553412176554), ('auc_prc', 0.36183809787290394)])\n",
      "{'混淆矩阵 acc': 0.40625, 'recall_': 0.13333333333333333, 'precision_': 0.25, 'f1_': 0.1739130434782609, 'mcc_': -0.2530855341217397}\n"
     ]
    },
    {
     "name": "stderr",
     "output_type": "stream",
     "text": [
      "Iteration: 100%|██████████| 1/1 [00:00<00:00, 19.70it/s]\n"
     ]
    },
    {
     "name": "stdout",
     "output_type": "stream",
     "text": [
      "{'tn': 13, 'fp': 4, 'fn': 5, 'tp': 10}\n",
      "0.7142857142857143\n",
      "OrderedDict([('acc', 0.71875), ('auc_roc', 0.6627450980392157), ('recall', 0.6666666666666666), ('precision', 0.7142857142857143), ('f1', 0.689655172413793), ('kappa', 0.4330708661417323), ('mcc', 0.43393264597022163), ('auc_prc', 0.6352787911381296)])\n",
      "{'混淆矩阵 acc': 0.71875, 'recall_': 0.6666666666666666, 'precision_': 0.7142857142857143, 'f1_': 0.689655172413793, 'mcc_': 0.4339326459701879}\n"
     ]
    },
    {
     "name": "stderr",
     "output_type": "stream",
     "text": [
      "Iteration: 100%|██████████| 1/1 [00:00<00:00, 21.27it/s]\n"
     ]
    },
    {
     "name": "stdout",
     "output_type": "stream",
     "text": [
      "{'tn': 14, 'fp': 3, 'fn': 12, 'tp': 3}\n",
      "0.5\n",
      "OrderedDict([('acc', 0.53125), ('auc_roc', 0.5568627450980392), ('recall', 0.2), ('precision', 0.5), ('f1', 0.28571428571428575), ('kappa', 0.024390243902439046), ('mcc', 0.03008284187980934), ('auc_prc', 0.6163156781392441)])\n",
      "{'混淆矩阵 acc': 0.53125, 'recall_': 0.2, 'precision_': 0.5, 'f1_': 0.28571428571428575, 'mcc_': 0.030082841879805564}\n"
     ]
    },
    {
     "name": "stderr",
     "output_type": "stream",
     "text": [
      "Iteration: 100%|██████████| 1/1 [00:00<00:00, 21.62it/s]\n"
     ]
    },
    {
     "name": "stdout",
     "output_type": "stream",
     "text": [
      "{'tn': 10, 'fp': 7, 'fn': 11, 'tp': 4}\n",
      "0.36363636363636365\n",
      "OrderedDict([('acc', 0.4375), ('auc_roc', 0.34509803921568627), ('recall', 0.26666666666666666), ('precision', 0.36363636363636365), ('f1', 0.30769230769230765), ('kappa', -0.14741035856573714), ('mcc', -0.15244937348544793), ('auc_prc', 0.4293248813686277)])\n",
      "{'混淆矩阵 acc': 0.4375, 'recall_': 0.26666666666666666, 'precision_': 0.36363636363636365, 'f1_': 0.30769230769230765, 'mcc_': -0.152449373485435}\n"
     ]
    },
    {
     "name": "stderr",
     "output_type": "stream",
     "text": [
      "Iteration: 100%|██████████| 1/1 [00:00<00:00, 20.94it/s]\n",
      "/home/admin/anaconda3/envs/dgllife/lib/python3.6/site-packages/ipykernel_launcher.py:52: RuntimeWarning: invalid value encountered in double_scalars\n"
     ]
    },
    {
     "name": "stdout",
     "output_type": "stream",
     "text": [
      "{'tn': 16, 'fp': 1, 'fn': 15, 'tp': 0}\n",
      "0.0\n",
      "OrderedDict([('acc', 0.5), ('auc_roc', 0.4), ('recall', 0.0), ('precision', 0.0), ('f1', 0.0), ('kappa', -0.06224066390041494), ('mcc', -0.16870980440527691), ('auc_prc', 0.38469712209133156)])\n",
      "{'混淆矩阵 acc': 0.5, 'recall_': 0.0, 'precision_': 0.0, 'f1_': nan, 'mcc_': -0.1687098044051702}\n"
     ]
    },
    {
     "name": "stderr",
     "output_type": "stream",
     "text": [
      "Iteration: 100%|██████████| 1/1 [00:00<00:00, 21.98it/s]\n"
     ]
    },
    {
     "name": "stdout",
     "output_type": "stream",
     "text": [
      "{'tn': 13, 'fp': 4, 'fn': 13, 'tp': 2}\n",
      "0.3333333333333333\n",
      "OrderedDict([('acc', 0.46875), ('auc_roc', 0.5372549019607843), ('recall', 0.13333333333333333), ('precision', 0.3333333333333333), ('f1', 0.19047619047619044), ('kappa', -0.10569105691056913), ('mcc', -0.1303589814791738), ('auc_prc', 0.5105642729887306)])\n",
      "{'混淆矩阵 acc': 0.46875, 'recall_': 0.13333333333333333, 'precision_': 0.3333333333333333, 'f1_': 0.19047619047619044, 'mcc_': -0.13035898147915745}\n"
     ]
    },
    {
     "name": "stderr",
     "output_type": "stream",
     "text": [
      "Iteration: 100%|██████████| 1/1 [00:00<00:00, 21.31it/s]\n",
      "/home/admin/anaconda3/envs/dgllife/lib/python3.6/site-packages/sklearn/metrics/_classification.py:1248: UndefinedMetricWarning: Precision is ill-defined and being set to 0.0 due to no predicted samples. Use `zero_division` parameter to control this behavior.\n",
      "  _warn_prf(average, modifier, msg_start, len(result))\n",
      "/home/admin/anaconda3/envs/dgllife/lib/python3.6/site-packages/sklearn/metrics/_classification.py:873: RuntimeWarning: invalid value encountered in double_scalars\n",
      "  mcc = cov_ytyp / np.sqrt(cov_ytyt * cov_ypyp)\n",
      "/home/admin/anaconda3/envs/dgllife/lib/python3.6/site-packages/ipykernel_launcher.py:50: RuntimeWarning: invalid value encountered in long_scalars\n",
      "/home/admin/anaconda3/envs/dgllife/lib/python3.6/site-packages/ipykernel_launcher.py:51: RuntimeWarning: invalid value encountered in long_scalars\n",
      "/home/admin/anaconda3/envs/dgllife/lib/python3.6/site-packages/ipykernel_launcher.py:52: RuntimeWarning: invalid value encountered in double_scalars\n"
     ]
    },
    {
     "name": "stdout",
     "output_type": "stream",
     "text": [
      "{'tn': 17, 'fp': 0, 'fn': 15, 'tp': 0}\n",
      "nan\n",
      "OrderedDict([('acc', 0.53125), ('auc_roc', 0.5215686274509804), ('recall', 0.0), ('precision', 0.0), ('f1', 0.0), ('kappa', 0.0), ('mcc', 0.0), ('auc_prc', 0.4386788236889799)])\n",
      "{'混淆矩阵 acc': 0.53125, 'recall_': 0.0, 'precision_': nan, 'f1_': nan, 'mcc_': 0.0}\n",
      "acc:0.525±0.08244316223920575\n",
      "predict_result/6108_AR_pre_32_AR_10_MPNN_1008/\n"
     ]
    },
    {
     "name": "stderr",
     "output_type": "stream",
     "text": [
      "/home/admin/anaconda3/envs/dgllife/lib/python3.6/site-packages/ipykernel_launcher.py:15: RuntimeWarning: invalid value encountered in double_scalars\n",
      "  from ipykernel import kernelapp as app\n",
      "/home/admin/anaconda3/envs/dgllife/lib/python3.6/site-packages/ipykernel_launcher.py:13: RuntimeWarning: invalid value encountered in long_scalars\n",
      "  del sys.path[0]\n",
      "/home/admin/anaconda3/envs/dgllife/lib/python3.6/site-packages/sklearn/metrics/_classification.py:1248: UndefinedMetricWarning: Precision is ill-defined and being set to 0.0 due to no predicted samples. Use `zero_division` parameter to control this behavior.\n",
      "  _warn_prf(average, modifier, msg_start, len(result))\n",
      "/home/admin/anaconda3/envs/dgllife/lib/python3.6/site-packages/sklearn/metrics/_classification.py:873: RuntimeWarning: invalid value encountered in double_scalars\n",
      "  mcc = cov_ytyp / np.sqrt(cov_ytyt * cov_ypyp)\n"
     ]
    }
   ],
   "source": [
    "args_interface['train_result_path'] = 'result/6108_AR_NURA_MPNN_0920'\n",
    "args_interface['inference_result_path'] = 'predict_result/6108_AR_pre_32_AR_10_MPNN_1008/'\n",
    "path = args_interface['train_result_path']\n",
    "modelName = 'MPNN_bst_'\n",
    "repetitions = 10\n",
    "args_interface = loadConfiguration(args_interface)\n",
    "data_df,predict_data = getResults(args_interface,modelName,repetitions,path)\n",
    "result = GetPreditcTable(predict_data,tureData,modelName,args_interface['inference_result_path'])"
   ]
  },
  {
   "cell_type": "code",
   "execution_count": 9,
   "id": "4c0141a6",
   "metadata": {},
   "outputs": [
    {
     "name": "stdout",
     "output_type": "stream",
     "text": [
      "MPNN_bst_\n"
     ]
    },
    {
     "data": {
      "text/html": [
       "<div>\n",
       "<style scoped>\n",
       "    .dataframe tbody tr th:only-of-type {\n",
       "        vertical-align: middle;\n",
       "    }\n",
       "\n",
       "    .dataframe tbody tr th {\n",
       "        vertical-align: top;\n",
       "    }\n",
       "\n",
       "    .dataframe thead th {\n",
       "        text-align: right;\n",
       "    }\n",
       "</style>\n",
       "<table border=\"1\" class=\"dataframe\">\n",
       "  <thead>\n",
       "    <tr style=\"text-align: right;\">\n",
       "      <th></th>\n",
       "      <th>acc</th>\n",
       "      <th>auc_roc</th>\n",
       "      <th>recall</th>\n",
       "      <th>precision</th>\n",
       "      <th>f1</th>\n",
       "      <th>kappa</th>\n",
       "      <th>mcc</th>\n",
       "      <th>auc_prc</th>\n",
       "    </tr>\n",
       "  </thead>\n",
       "  <tbody>\n",
       "    <tr>\n",
       "      <th>0</th>\n",
       "      <td>0.531250</td>\n",
       "      <td>0.576471</td>\n",
       "      <td>0.400000</td>\n",
       "      <td>0.500000</td>\n",
       "      <td>0.444444</td>\n",
       "      <td>0.047619</td>\n",
       "      <td>0.048507</td>\n",
       "      <td>0.578762</td>\n",
       "    </tr>\n",
       "    <tr>\n",
       "      <th>1</th>\n",
       "      <td>0.593750</td>\n",
       "      <td>0.588235</td>\n",
       "      <td>0.200000</td>\n",
       "      <td>0.750000</td>\n",
       "      <td>0.315789</td>\n",
       "      <td>0.147541</td>\n",
       "      <td>0.213021</td>\n",
       "      <td>0.650485</td>\n",
       "    </tr>\n",
       "    <tr>\n",
       "      <th>2</th>\n",
       "      <td>0.531250</td>\n",
       "      <td>0.529412</td>\n",
       "      <td>0.733333</td>\n",
       "      <td>0.500000</td>\n",
       "      <td>0.594595</td>\n",
       "      <td>0.083969</td>\n",
       "      <td>0.092884</td>\n",
       "      <td>0.465396</td>\n",
       "    </tr>\n",
       "    <tr>\n",
       "      <th>3</th>\n",
       "      <td>0.406250</td>\n",
       "      <td>0.321569</td>\n",
       "      <td>0.133333</td>\n",
       "      <td>0.250000</td>\n",
       "      <td>0.173913</td>\n",
       "      <td>-0.225806</td>\n",
       "      <td>-0.253086</td>\n",
       "      <td>0.361838</td>\n",
       "    </tr>\n",
       "    <tr>\n",
       "      <th>4</th>\n",
       "      <td>0.718750</td>\n",
       "      <td>0.662745</td>\n",
       "      <td>0.666667</td>\n",
       "      <td>0.714286</td>\n",
       "      <td>0.689655</td>\n",
       "      <td>0.433071</td>\n",
       "      <td>0.433933</td>\n",
       "      <td>0.635279</td>\n",
       "    </tr>\n",
       "    <tr>\n",
       "      <th>5</th>\n",
       "      <td>0.531250</td>\n",
       "      <td>0.556863</td>\n",
       "      <td>0.200000</td>\n",
       "      <td>0.500000</td>\n",
       "      <td>0.285714</td>\n",
       "      <td>0.024390</td>\n",
       "      <td>0.030083</td>\n",
       "      <td>0.616316</td>\n",
       "    </tr>\n",
       "    <tr>\n",
       "      <th>6</th>\n",
       "      <td>0.437500</td>\n",
       "      <td>0.345098</td>\n",
       "      <td>0.266667</td>\n",
       "      <td>0.363636</td>\n",
       "      <td>0.307692</td>\n",
       "      <td>-0.147410</td>\n",
       "      <td>-0.152449</td>\n",
       "      <td>0.429325</td>\n",
       "    </tr>\n",
       "    <tr>\n",
       "      <th>7</th>\n",
       "      <td>0.500000</td>\n",
       "      <td>0.400000</td>\n",
       "      <td>0.000000</td>\n",
       "      <td>0.000000</td>\n",
       "      <td>0.000000</td>\n",
       "      <td>-0.062241</td>\n",
       "      <td>-0.168710</td>\n",
       "      <td>0.384697</td>\n",
       "    </tr>\n",
       "    <tr>\n",
       "      <th>8</th>\n",
       "      <td>0.468750</td>\n",
       "      <td>0.537255</td>\n",
       "      <td>0.133333</td>\n",
       "      <td>0.333333</td>\n",
       "      <td>0.190476</td>\n",
       "      <td>-0.105691</td>\n",
       "      <td>-0.130359</td>\n",
       "      <td>0.510564</td>\n",
       "    </tr>\n",
       "    <tr>\n",
       "      <th>9</th>\n",
       "      <td>0.531250</td>\n",
       "      <td>0.521569</td>\n",
       "      <td>0.000000</td>\n",
       "      <td>0.000000</td>\n",
       "      <td>0.000000</td>\n",
       "      <td>0.000000</td>\n",
       "      <td>0.000000</td>\n",
       "      <td>0.438679</td>\n",
       "    </tr>\n",
       "    <tr>\n",
       "      <th>Mean</th>\n",
       "      <td>0.525000</td>\n",
       "      <td>0.503922</td>\n",
       "      <td>0.273333</td>\n",
       "      <td>0.391126</td>\n",
       "      <td>0.300228</td>\n",
       "      <td>0.019544</td>\n",
       "      <td>0.011382</td>\n",
       "      <td>0.507134</td>\n",
       "    </tr>\n",
       "    <tr>\n",
       "      <th>Std</th>\n",
       "      <td>0.082443</td>\n",
       "      <td>0.105712</td>\n",
       "      <td>0.241201</td>\n",
       "      <td>0.244695</td>\n",
       "      <td>0.216307</td>\n",
       "      <td>0.174119</td>\n",
       "      <td>0.194169</td>\n",
       "      <td>0.101300</td>\n",
       "    </tr>\n",
       "    <tr>\n",
       "      <th>avg</th>\n",
       "      <td>0.500000</td>\n",
       "      <td>0.490196</td>\n",
       "      <td>0.133333</td>\n",
       "      <td>0.400000</td>\n",
       "      <td>0.200000</td>\n",
       "      <td>-0.044898</td>\n",
       "      <td>-0.059286</td>\n",
       "      <td>0.490419</td>\n",
       "    </tr>\n",
       "  </tbody>\n",
       "</table>\n",
       "</div>"
      ],
      "text/plain": [
       "           acc   auc_roc    recall  precision        f1     kappa       mcc  \\\n",
       "0     0.531250  0.576471  0.400000   0.500000  0.444444  0.047619  0.048507   \n",
       "1     0.593750  0.588235  0.200000   0.750000  0.315789  0.147541  0.213021   \n",
       "2     0.531250  0.529412  0.733333   0.500000  0.594595  0.083969  0.092884   \n",
       "3     0.406250  0.321569  0.133333   0.250000  0.173913 -0.225806 -0.253086   \n",
       "4     0.718750  0.662745  0.666667   0.714286  0.689655  0.433071  0.433933   \n",
       "5     0.531250  0.556863  0.200000   0.500000  0.285714  0.024390  0.030083   \n",
       "6     0.437500  0.345098  0.266667   0.363636  0.307692 -0.147410 -0.152449   \n",
       "7     0.500000  0.400000  0.000000   0.000000  0.000000 -0.062241 -0.168710   \n",
       "8     0.468750  0.537255  0.133333   0.333333  0.190476 -0.105691 -0.130359   \n",
       "9     0.531250  0.521569  0.000000   0.000000  0.000000  0.000000  0.000000   \n",
       "Mean  0.525000  0.503922  0.273333   0.391126  0.300228  0.019544  0.011382   \n",
       "Std   0.082443  0.105712  0.241201   0.244695  0.216307  0.174119  0.194169   \n",
       "avg   0.500000  0.490196  0.133333   0.400000  0.200000 -0.044898 -0.059286   \n",
       "\n",
       "       auc_prc  \n",
       "0     0.578762  \n",
       "1     0.650485  \n",
       "2     0.465396  \n",
       "3     0.361838  \n",
       "4     0.635279  \n",
       "5     0.616316  \n",
       "6     0.429325  \n",
       "7     0.384697  \n",
       "8     0.510564  \n",
       "9     0.438679  \n",
       "Mean  0.507134  \n",
       "Std   0.101300  \n",
       "avg   0.490419  "
      ]
     },
     "execution_count": 9,
     "metadata": {},
     "output_type": "execute_result"
    }
   ],
   "source": [
    "print(modelName)\n",
    "result"
   ]
  },
  {
   "cell_type": "code",
   "execution_count": 10,
   "id": "4b7d0f2e",
   "metadata": {},
   "outputs": [
    {
     "name": "stdout",
     "output_type": "stream",
     "text": [
      "Directory predict_result/6108_AR_pre_32_AR_10_AFP_1008/ already exists.\n"
     ]
    },
    {
     "name": "stderr",
     "output_type": "stream",
     "text": [
      "Iteration: 100%|██████████| 1/1 [00:00<00:00, 21.49it/s]\n"
     ]
    },
    {
     "name": "stdout",
     "output_type": "stream",
     "text": [
      "{'tn': 13, 'fp': 4, 'fn': 3, 'tp': 12}\n",
      "0.75\n",
      "OrderedDict([('acc', 0.78125), ('auc_roc', 0.8666666666666667), ('recall', 0.8), ('precision', 0.75), ('f1', 0.7741935483870969), ('kappa', 0.5625), ('mcc', 0.5636018619766345), ('auc_prc', 0.7492884990253412)])\n",
      "{'混淆矩阵 acc': 0.78125, 'recall_': 0.8, 'precision_': 0.75, 'f1_': 0.7741935483870969, 'mcc_': 0.5636018619765913}\n"
     ]
    },
    {
     "name": "stderr",
     "output_type": "stream",
     "text": [
      "Iteration: 100%|██████████| 1/1 [00:00<00:00, 21.83it/s]"
     ]
    },
    {
     "name": "stdout",
     "output_type": "stream",
     "text": [
      "{'tn': 12, 'fp': 5, 'fn': 6, 'tp': 9}\n",
      "0.6428571428571429\n",
      "OrderedDict([('acc', 0.65625), ('auc_roc', 0.7372549019607844), ('recall', 0.6), ('precision', 0.6428571428571429), ('f1', 0.6206896551724138), ('kappa', 0.30708661417322836), ('mcc', 0.3076976944152481), ('auc_prc', 0.7543937061328365)])\n",
      "{'混淆矩阵 acc': 0.65625, 'recall_': 0.6, 'precision_': 0.6428571428571429, 'f1_': 0.6206896551724138, 'mcc_': 0.30769769441522415}\n"
     ]
    },
    {
     "name": "stderr",
     "output_type": "stream",
     "text": [
      "\n",
      "Iteration: 100%|██████████| 1/1 [00:00<00:00, 21.43it/s]\n"
     ]
    },
    {
     "name": "stdout",
     "output_type": "stream",
     "text": [
      "{'tn': 11, 'fp': 6, 'fn': 4, 'tp': 11}\n",
      "0.6470588235294118\n",
      "OrderedDict([('acc', 0.6875), ('auc_roc', 0.7607843137254902), ('recall', 0.7333333333333333), ('precision', 0.6470588235294118), ('f1', 0.6875), ('kappa', 0.377431906614786), ('mcc', 0.3803921568627451), ('auc_prc', 0.6942504125123605)])\n",
      "{'混淆矩阵 acc': 0.6875, 'recall_': 0.7333333333333333, 'precision_': 0.6470588235294118, 'f1_': 0.6875, 'mcc_': 0.3803921568627158}\n"
     ]
    },
    {
     "name": "stderr",
     "output_type": "stream",
     "text": [
      "Iteration: 100%|██████████| 1/1 [00:00<00:00, 21.47it/s]\n"
     ]
    },
    {
     "name": "stdout",
     "output_type": "stream",
     "text": [
      "{'tn': 10, 'fp': 7, 'fn': 3, 'tp': 12}\n",
      "0.631578947368421\n",
      "OrderedDict([('acc', 0.6875), ('auc_roc', 0.8666666666666666), ('recall', 0.8), ('precision', 0.631578947368421), ('f1', 0.7058823529411765), ('kappa', 0.38223938223938225), ('mcc', 0.3944724048765609), ('auc_prc', 0.8851957907074006)])\n",
      "{'混淆矩阵 acc': 0.6875, 'recall_': 0.8, 'precision_': 0.631578947368421, 'f1_': 0.7058823529411765, 'mcc_': 0.3944724048765296}\n"
     ]
    },
    {
     "name": "stderr",
     "output_type": "stream",
     "text": [
      "Iteration: 100%|██████████| 1/1 [00:00<00:00, 21.16it/s]\n"
     ]
    },
    {
     "name": "stdout",
     "output_type": "stream",
     "text": [
      "{'tn': 13, 'fp': 4, 'fn': 10, 'tp': 5}\n",
      "0.5555555555555556\n",
      "OrderedDict([('acc', 0.5625), ('auc_roc', 0.7137254901960783), ('recall', 0.3333333333333333), ('precision', 0.5555555555555556), ('f1', 0.4166666666666667), ('kappa', 0.10040160642570284), ('mcc', 0.10881399260327249), ('auc_prc', 0.6011779026931964)])\n",
      "{'混淆矩阵 acc': 0.5625, 'recall_': 0.3333333333333333, 'precision_': 0.5555555555555556, 'f1_': 0.4166666666666667, 'mcc_': 0.10881399260326217}\n"
     ]
    },
    {
     "name": "stderr",
     "output_type": "stream",
     "text": [
      "Iteration: 100%|██████████| 1/1 [00:00<00:00, 19.80it/s]\n"
     ]
    },
    {
     "name": "stdout",
     "output_type": "stream",
     "text": [
      "{'tn': 11, 'fp': 6, 'fn': 5, 'tp': 10}\n",
      "0.625\n",
      "OrderedDict([('acc', 0.65625), ('auc_roc', 0.7254901960784313), ('recall', 0.6666666666666666), ('precision', 0.625), ('f1', 0.6451612903225806), ('kappa', 0.3125), ('mcc', 0.31311214554257477), ('auc_prc', 0.7334399169953064)])\n",
      "{'混淆矩阵 acc': 0.65625, 'recall_': 0.6666666666666666, 'precision_': 0.625, 'f1_': 0.6451612903225806, 'mcc_': 0.31311214554255073}\n"
     ]
    },
    {
     "name": "stderr",
     "output_type": "stream",
     "text": [
      "Iteration: 100%|██████████| 1/1 [00:00<00:00, 21.63it/s]\n"
     ]
    },
    {
     "name": "stdout",
     "output_type": "stream",
     "text": [
      "{'tn': 12, 'fp': 5, 'fn': 7, 'tp': 8}\n",
      "0.6153846153846154\n",
      "OrderedDict([('acc', 0.625), ('auc_roc', 0.6784313725490196), ('recall', 0.5333333333333333), ('precision', 0.6153846153846154), ('f1', 0.5714285714285715), ('kappa', 0.24110671936758898), ('mcc', 0.24305875451990117), ('auc_prc', 0.7180581941450849)])\n",
      "{'混淆矩阵 acc': 0.625, 'recall_': 0.5333333333333333, 'precision_': 0.6153846153846154, 'f1_': 0.5714285714285715, 'mcc_': 0.2430587545198819}\n"
     ]
    },
    {
     "name": "stderr",
     "output_type": "stream",
     "text": [
      "Iteration: 100%|██████████| 1/1 [00:00<00:00, 21.40it/s]\n"
     ]
    },
    {
     "name": "stdout",
     "output_type": "stream",
     "text": [
      "{'tn': 10, 'fp': 7, 'fn': 4, 'tp': 11}\n",
      "0.6111111111111112\n",
      "OrderedDict([('acc', 0.65625), ('auc_roc', 0.788235294117647), ('recall', 0.7333333333333333), ('precision', 0.6111111111111112), ('f1', 0.6666666666666666), ('kappa', 0.3178294573643411), ('mcc', 0.3234770633596198), ('auc_prc', 0.7984612636071446)])\n",
      "{'混淆矩阵 acc': 0.65625, 'recall_': 0.7333333333333333, 'precision_': 0.6111111111111112, 'f1_': 0.6666666666666666, 'mcc_': 0.3234770633595946}\n"
     ]
    },
    {
     "name": "stderr",
     "output_type": "stream",
     "text": [
      "Iteration: 100%|██████████| 1/1 [00:00<00:00, 21.72it/s]\n"
     ]
    },
    {
     "name": "stdout",
     "output_type": "stream",
     "text": [
      "{'tn': 17, 'fp': 0, 'fn': 4, 'tp': 11}\n",
      "1.0\n",
      "OrderedDict([('acc', 0.875), ('auc_roc', 0.8627450980392157), ('recall', 0.7333333333333333), ('precision', 1.0), ('f1', 0.846153846153846), ('kappa', 0.7450199203187251), ('mcc', 0.7704873741021288), ('auc_prc', 0.8966719672274367)])\n",
      "{'混淆矩阵 acc': 0.875, 'recall_': 0.7333333333333333, 'precision_': 1.0, 'f1_': 0.846153846153846, 'mcc_': 0.7704873741020634}\n"
     ]
    },
    {
     "name": "stderr",
     "output_type": "stream",
     "text": [
      "Iteration: 100%|██████████| 1/1 [00:00<00:00, 21.58it/s]\n"
     ]
    },
    {
     "name": "stdout",
     "output_type": "stream",
     "text": [
      "{'tn': 13, 'fp': 4, 'fn': 5, 'tp': 10}\n",
      "0.7142857142857143\n",
      "OrderedDict([('acc', 0.71875), ('auc_roc', 0.7450980392156863), ('recall', 0.6666666666666666), ('precision', 0.7142857142857143), ('f1', 0.689655172413793), ('kappa', 0.4330708661417323), ('mcc', 0.43393264597022163), ('auc_prc', 0.744919825333992)])\n",
      "{'混淆矩阵 acc': 0.71875, 'recall_': 0.6666666666666666, 'precision_': 0.7142857142857143, 'f1_': 0.689655172413793, 'mcc_': 0.4339326459701879}\n",
      "acc:0.690625±0.0820275296775418\n",
      "predict_result/6108_AR_pre_32_AR_10_AFP_1008/\n"
     ]
    }
   ],
   "source": [
    "args_interface['train_result_path'] = 'result/6108_AR_NURA_AFP_0920'\n",
    "args_interface['inference_result_path'] = 'predict_result/6108_AR_pre_32_AR_10_AFP_1008/'\n",
    "path = args_interface['train_result_path']\n",
    "modelName = 'AttentiveFP_bst_'\n",
    "repetitions = 10\n",
    "args_interface = loadConfiguration(args_interface)\n",
    "data_df,predict_data = getResults(args_interface,modelName,repetitions,path)\n",
    "result = GetPreditcTable(predict_data,tureData,modelName,args_interface['inference_result_path'])"
   ]
  },
  {
   "cell_type": "code",
   "execution_count": 11,
   "id": "dc59354c",
   "metadata": {},
   "outputs": [
    {
     "name": "stdout",
     "output_type": "stream",
     "text": [
      "AttentiveFP_bst_\n"
     ]
    },
    {
     "data": {
      "text/html": [
       "<div>\n",
       "<style scoped>\n",
       "    .dataframe tbody tr th:only-of-type {\n",
       "        vertical-align: middle;\n",
       "    }\n",
       "\n",
       "    .dataframe tbody tr th {\n",
       "        vertical-align: top;\n",
       "    }\n",
       "\n",
       "    .dataframe thead th {\n",
       "        text-align: right;\n",
       "    }\n",
       "</style>\n",
       "<table border=\"1\" class=\"dataframe\">\n",
       "  <thead>\n",
       "    <tr style=\"text-align: right;\">\n",
       "      <th></th>\n",
       "      <th>acc</th>\n",
       "      <th>auc_roc</th>\n",
       "      <th>recall</th>\n",
       "      <th>precision</th>\n",
       "      <th>f1</th>\n",
       "      <th>kappa</th>\n",
       "      <th>mcc</th>\n",
       "      <th>auc_prc</th>\n",
       "    </tr>\n",
       "  </thead>\n",
       "  <tbody>\n",
       "    <tr>\n",
       "      <th>0</th>\n",
       "      <td>0.781250</td>\n",
       "      <td>0.866667</td>\n",
       "      <td>0.800000</td>\n",
       "      <td>0.750000</td>\n",
       "      <td>0.774194</td>\n",
       "      <td>0.562500</td>\n",
       "      <td>0.563602</td>\n",
       "      <td>0.749288</td>\n",
       "    </tr>\n",
       "    <tr>\n",
       "      <th>1</th>\n",
       "      <td>0.656250</td>\n",
       "      <td>0.737255</td>\n",
       "      <td>0.600000</td>\n",
       "      <td>0.642857</td>\n",
       "      <td>0.620690</td>\n",
       "      <td>0.307087</td>\n",
       "      <td>0.307698</td>\n",
       "      <td>0.754394</td>\n",
       "    </tr>\n",
       "    <tr>\n",
       "      <th>2</th>\n",
       "      <td>0.687500</td>\n",
       "      <td>0.760784</td>\n",
       "      <td>0.733333</td>\n",
       "      <td>0.647059</td>\n",
       "      <td>0.687500</td>\n",
       "      <td>0.377432</td>\n",
       "      <td>0.380392</td>\n",
       "      <td>0.694250</td>\n",
       "    </tr>\n",
       "    <tr>\n",
       "      <th>3</th>\n",
       "      <td>0.687500</td>\n",
       "      <td>0.866667</td>\n",
       "      <td>0.800000</td>\n",
       "      <td>0.631579</td>\n",
       "      <td>0.705882</td>\n",
       "      <td>0.382239</td>\n",
       "      <td>0.394472</td>\n",
       "      <td>0.885196</td>\n",
       "    </tr>\n",
       "    <tr>\n",
       "      <th>4</th>\n",
       "      <td>0.562500</td>\n",
       "      <td>0.713725</td>\n",
       "      <td>0.333333</td>\n",
       "      <td>0.555556</td>\n",
       "      <td>0.416667</td>\n",
       "      <td>0.100402</td>\n",
       "      <td>0.108814</td>\n",
       "      <td>0.601178</td>\n",
       "    </tr>\n",
       "    <tr>\n",
       "      <th>5</th>\n",
       "      <td>0.656250</td>\n",
       "      <td>0.725490</td>\n",
       "      <td>0.666667</td>\n",
       "      <td>0.625000</td>\n",
       "      <td>0.645161</td>\n",
       "      <td>0.312500</td>\n",
       "      <td>0.313112</td>\n",
       "      <td>0.733440</td>\n",
       "    </tr>\n",
       "    <tr>\n",
       "      <th>6</th>\n",
       "      <td>0.625000</td>\n",
       "      <td>0.678431</td>\n",
       "      <td>0.533333</td>\n",
       "      <td>0.615385</td>\n",
       "      <td>0.571429</td>\n",
       "      <td>0.241107</td>\n",
       "      <td>0.243059</td>\n",
       "      <td>0.718058</td>\n",
       "    </tr>\n",
       "    <tr>\n",
       "      <th>7</th>\n",
       "      <td>0.656250</td>\n",
       "      <td>0.788235</td>\n",
       "      <td>0.733333</td>\n",
       "      <td>0.611111</td>\n",
       "      <td>0.666667</td>\n",
       "      <td>0.317829</td>\n",
       "      <td>0.323477</td>\n",
       "      <td>0.798461</td>\n",
       "    </tr>\n",
       "    <tr>\n",
       "      <th>8</th>\n",
       "      <td>0.875000</td>\n",
       "      <td>0.862745</td>\n",
       "      <td>0.733333</td>\n",
       "      <td>1.000000</td>\n",
       "      <td>0.846154</td>\n",
       "      <td>0.745020</td>\n",
       "      <td>0.770487</td>\n",
       "      <td>0.896672</td>\n",
       "    </tr>\n",
       "    <tr>\n",
       "      <th>9</th>\n",
       "      <td>0.718750</td>\n",
       "      <td>0.745098</td>\n",
       "      <td>0.666667</td>\n",
       "      <td>0.714286</td>\n",
       "      <td>0.689655</td>\n",
       "      <td>0.433071</td>\n",
       "      <td>0.433933</td>\n",
       "      <td>0.744920</td>\n",
       "    </tr>\n",
       "    <tr>\n",
       "      <th>Mean</th>\n",
       "      <td>0.690625</td>\n",
       "      <td>0.774510</td>\n",
       "      <td>0.660000</td>\n",
       "      <td>0.679283</td>\n",
       "      <td>0.662400</td>\n",
       "      <td>0.377919</td>\n",
       "      <td>0.383905</td>\n",
       "      <td>0.757586</td>\n",
       "    </tr>\n",
       "    <tr>\n",
       "      <th>Std</th>\n",
       "      <td>0.082028</td>\n",
       "      <td>0.065368</td>\n",
       "      <td>0.134825</td>\n",
       "      <td>0.118622</td>\n",
       "      <td>0.109655</td>\n",
       "      <td>0.167492</td>\n",
       "      <td>0.171565</td>\n",
       "      <td>0.082559</td>\n",
       "    </tr>\n",
       "    <tr>\n",
       "      <th>avg</th>\n",
       "      <td>0.656250</td>\n",
       "      <td>0.803922</td>\n",
       "      <td>0.666667</td>\n",
       "      <td>0.625000</td>\n",
       "      <td>0.645161</td>\n",
       "      <td>0.312500</td>\n",
       "      <td>0.313112</td>\n",
       "      <td>0.813895</td>\n",
       "    </tr>\n",
       "  </tbody>\n",
       "</table>\n",
       "</div>"
      ],
      "text/plain": [
       "           acc   auc_roc    recall  precision        f1     kappa       mcc  \\\n",
       "0     0.781250  0.866667  0.800000   0.750000  0.774194  0.562500  0.563602   \n",
       "1     0.656250  0.737255  0.600000   0.642857  0.620690  0.307087  0.307698   \n",
       "2     0.687500  0.760784  0.733333   0.647059  0.687500  0.377432  0.380392   \n",
       "3     0.687500  0.866667  0.800000   0.631579  0.705882  0.382239  0.394472   \n",
       "4     0.562500  0.713725  0.333333   0.555556  0.416667  0.100402  0.108814   \n",
       "5     0.656250  0.725490  0.666667   0.625000  0.645161  0.312500  0.313112   \n",
       "6     0.625000  0.678431  0.533333   0.615385  0.571429  0.241107  0.243059   \n",
       "7     0.656250  0.788235  0.733333   0.611111  0.666667  0.317829  0.323477   \n",
       "8     0.875000  0.862745  0.733333   1.000000  0.846154  0.745020  0.770487   \n",
       "9     0.718750  0.745098  0.666667   0.714286  0.689655  0.433071  0.433933   \n",
       "Mean  0.690625  0.774510  0.660000   0.679283  0.662400  0.377919  0.383905   \n",
       "Std   0.082028  0.065368  0.134825   0.118622  0.109655  0.167492  0.171565   \n",
       "avg   0.656250  0.803922  0.666667   0.625000  0.645161  0.312500  0.313112   \n",
       "\n",
       "       auc_prc  \n",
       "0     0.749288  \n",
       "1     0.754394  \n",
       "2     0.694250  \n",
       "3     0.885196  \n",
       "4     0.601178  \n",
       "5     0.733440  \n",
       "6     0.718058  \n",
       "7     0.798461  \n",
       "8     0.896672  \n",
       "9     0.744920  \n",
       "Mean  0.757586  \n",
       "Std   0.082559  \n",
       "avg   0.813895  "
      ]
     },
     "execution_count": 11,
     "metadata": {},
     "output_type": "execute_result"
    }
   ],
   "source": [
    "print(modelName)\n",
    "result"
   ]
  },
  {
   "cell_type": "code",
   "execution_count": 12,
   "id": "7275810a",
   "metadata": {},
   "outputs": [
    {
     "name": "stdout",
     "output_type": "stream",
     "text": [
      "Directory predict_result/6108_AR_pre_32_AR_10_GAT_1008/ already exists.\n"
     ]
    },
    {
     "name": "stderr",
     "output_type": "stream",
     "text": [
      "Iteration: 100%|██████████| 1/1 [00:00<00:00, 21.42it/s]\n",
      "/home/admin/anaconda3/envs/dgllife/lib/python3.6/site-packages/sklearn/metrics/_classification.py:1248: UndefinedMetricWarning: Precision is ill-defined and being set to 0.0 due to no predicted samples. Use `zero_division` parameter to control this behavior.\n",
      "  _warn_prf(average, modifier, msg_start, len(result))\n",
      "/home/admin/anaconda3/envs/dgllife/lib/python3.6/site-packages/sklearn/metrics/_classification.py:873: RuntimeWarning: invalid value encountered in double_scalars\n",
      "  mcc = cov_ytyp / np.sqrt(cov_ytyt * cov_ypyp)\n",
      "/home/admin/anaconda3/envs/dgllife/lib/python3.6/site-packages/ipykernel_launcher.py:50: RuntimeWarning: invalid value encountered in long_scalars\n",
      "/home/admin/anaconda3/envs/dgllife/lib/python3.6/site-packages/ipykernel_launcher.py:51: RuntimeWarning: invalid value encountered in long_scalars\n",
      "/home/admin/anaconda3/envs/dgllife/lib/python3.6/site-packages/ipykernel_launcher.py:52: RuntimeWarning: invalid value encountered in double_scalars\n"
     ]
    },
    {
     "name": "stdout",
     "output_type": "stream",
     "text": [
      "{'tn': 17, 'fp': 0, 'fn': 15, 'tp': 0}\n",
      "nan\n",
      "OrderedDict([('acc', 0.53125), ('auc_roc', 0.6705882352941176), ('recall', 0.0), ('precision', 0.0), ('f1', 0.0), ('kappa', 0.0), ('mcc', 0.0), ('auc_prc', 0.6961146494164432)])\n",
      "{'混淆矩阵 acc': 0.53125, 'recall_': 0.0, 'precision_': nan, 'f1_': nan, 'mcc_': 0.0}\n"
     ]
    },
    {
     "name": "stderr",
     "output_type": "stream",
     "text": [
      "Iteration: 100%|██████████| 1/1 [00:00<00:00, 21.17it/s]\n",
      "/home/admin/anaconda3/envs/dgllife/lib/python3.6/site-packages/sklearn/metrics/_classification.py:1248: UndefinedMetricWarning: Precision is ill-defined and being set to 0.0 due to no predicted samples. Use `zero_division` parameter to control this behavior.\n",
      "  _warn_prf(average, modifier, msg_start, len(result))\n",
      "/home/admin/anaconda3/envs/dgllife/lib/python3.6/site-packages/sklearn/metrics/_classification.py:873: RuntimeWarning: invalid value encountered in double_scalars\n",
      "  mcc = cov_ytyp / np.sqrt(cov_ytyt * cov_ypyp)\n",
      "/home/admin/anaconda3/envs/dgllife/lib/python3.6/site-packages/ipykernel_launcher.py:50: RuntimeWarning: invalid value encountered in long_scalars\n",
      "/home/admin/anaconda3/envs/dgllife/lib/python3.6/site-packages/ipykernel_launcher.py:51: RuntimeWarning: invalid value encountered in long_scalars\n",
      "/home/admin/anaconda3/envs/dgllife/lib/python3.6/site-packages/ipykernel_launcher.py:52: RuntimeWarning: invalid value encountered in double_scalars\n"
     ]
    },
    {
     "name": "stdout",
     "output_type": "stream",
     "text": [
      "{'tn': 17, 'fp': 0, 'fn': 15, 'tp': 0}\n",
      "nan\n",
      "OrderedDict([('acc', 0.53125), ('auc_roc', 0.6823529411764706), ('recall', 0.0), ('precision', 0.0), ('f1', 0.0), ('kappa', 0.0), ('mcc', 0.0), ('auc_prc', 0.6980106274282716)])\n",
      "{'混淆矩阵 acc': 0.53125, 'recall_': 0.0, 'precision_': nan, 'f1_': nan, 'mcc_': 0.0}\n"
     ]
    },
    {
     "name": "stderr",
     "output_type": "stream",
     "text": [
      "Iteration: 100%|██████████| 1/1 [00:00<00:00, 21.44it/s]\n"
     ]
    },
    {
     "name": "stdout",
     "output_type": "stream",
     "text": [
      "{'tn': 16, 'fp': 1, 'fn': 11, 'tp': 4}\n",
      "0.8\n",
      "OrderedDict([('acc', 0.625), ('auc_roc', 0.8117647058823529), ('recall', 0.26666666666666666), ('precision', 0.8), ('f1', 0.4), ('kappa', 0.21632653061224494), ('mcc', 0.2856530694872366), ('auc_prc', 0.7689491961713324)])\n",
      "{'混淆矩阵 acc': 0.625, 'recall_': 0.26666666666666666, 'precision_': 0.8, 'f1_': 0.4, 'mcc_': 0.2856530694871951}\n"
     ]
    },
    {
     "name": "stderr",
     "output_type": "stream",
     "text": [
      "Iteration: 100%|██████████| 1/1 [00:00<00:00, 21.78it/s]\n",
      "/home/admin/anaconda3/envs/dgllife/lib/python3.6/site-packages/sklearn/metrics/_classification.py:1248: UndefinedMetricWarning: Precision is ill-defined and being set to 0.0 due to no predicted samples. Use `zero_division` parameter to control this behavior.\n",
      "  _warn_prf(average, modifier, msg_start, len(result))\n",
      "/home/admin/anaconda3/envs/dgllife/lib/python3.6/site-packages/sklearn/metrics/_classification.py:873: RuntimeWarning: invalid value encountered in double_scalars\n",
      "  mcc = cov_ytyp / np.sqrt(cov_ytyt * cov_ypyp)\n",
      "/home/admin/anaconda3/envs/dgllife/lib/python3.6/site-packages/ipykernel_launcher.py:50: RuntimeWarning: invalid value encountered in long_scalars\n",
      "/home/admin/anaconda3/envs/dgllife/lib/python3.6/site-packages/ipykernel_launcher.py:51: RuntimeWarning: invalid value encountered in long_scalars\n",
      "/home/admin/anaconda3/envs/dgllife/lib/python3.6/site-packages/ipykernel_launcher.py:52: RuntimeWarning: invalid value encountered in double_scalars\n"
     ]
    },
    {
     "name": "stdout",
     "output_type": "stream",
     "text": [
      "{'tn': 17, 'fp': 0, 'fn': 15, 'tp': 0}\n",
      "nan\n",
      "OrderedDict([('acc', 0.53125), ('auc_roc', 0.7098039215686275), ('recall', 0.0), ('precision', 0.0), ('f1', 0.0), ('kappa', 0.0), ('mcc', 0.0), ('auc_prc', 0.7166414213348906)])\n",
      "{'混淆矩阵 acc': 0.53125, 'recall_': 0.0, 'precision_': nan, 'f1_': nan, 'mcc_': 0.0}\n"
     ]
    },
    {
     "name": "stderr",
     "output_type": "stream",
     "text": [
      "Iteration: 100%|██████████| 1/1 [00:00<00:00, 21.33it/s]\n"
     ]
    },
    {
     "name": "stdout",
     "output_type": "stream",
     "text": [
      "{'tn': 17, 'fp': 0, 'fn': 14, 'tp': 1}\n",
      "1.0\n",
      "OrderedDict([('acc', 0.5625), ('auc_roc', 0.7921568627450981), ('recall', 0.06666666666666667), ('precision', 1.0), ('f1', 0.125), ('kappa', 0.0705394190871369), ('mcc', 0.19120444499264716), ('auc_prc', 0.761346584549113)])\n",
      "{'混淆矩阵 acc': 0.5625, 'recall_': 0.06666666666666667, 'precision_': 1.0, 'f1_': 0.125, 'mcc_': 0.19120444499252623}\n"
     ]
    },
    {
     "name": "stderr",
     "output_type": "stream",
     "text": [
      "Iteration: 100%|██████████| 1/1 [00:00<00:00, 21.63it/s]\n",
      "/home/admin/anaconda3/envs/dgllife/lib/python3.6/site-packages/sklearn/metrics/_classification.py:1248: UndefinedMetricWarning: Precision is ill-defined and being set to 0.0 due to no predicted samples. Use `zero_division` parameter to control this behavior.\n",
      "  _warn_prf(average, modifier, msg_start, len(result))\n",
      "/home/admin/anaconda3/envs/dgllife/lib/python3.6/site-packages/sklearn/metrics/_classification.py:873: RuntimeWarning: invalid value encountered in double_scalars\n",
      "  mcc = cov_ytyp / np.sqrt(cov_ytyt * cov_ypyp)\n",
      "/home/admin/anaconda3/envs/dgllife/lib/python3.6/site-packages/ipykernel_launcher.py:50: RuntimeWarning: invalid value encountered in long_scalars\n",
      "/home/admin/anaconda3/envs/dgllife/lib/python3.6/site-packages/ipykernel_launcher.py:51: RuntimeWarning: invalid value encountered in long_scalars\n",
      "/home/admin/anaconda3/envs/dgllife/lib/python3.6/site-packages/ipykernel_launcher.py:52: RuntimeWarning: invalid value encountered in double_scalars\n"
     ]
    },
    {
     "name": "stdout",
     "output_type": "stream",
     "text": [
      "{'tn': 17, 'fp': 0, 'fn': 15, 'tp': 0}\n",
      "nan\n",
      "OrderedDict([('acc', 0.53125), ('auc_roc', 0.6196078431372549), ('recall', 0.0), ('precision', 0.0), ('f1', 0.0), ('kappa', 0.0), ('mcc', 0.0), ('auc_prc', 0.6960061291662112)])\n",
      "{'混淆矩阵 acc': 0.53125, 'recall_': 0.0, 'precision_': nan, 'f1_': nan, 'mcc_': 0.0}\n"
     ]
    },
    {
     "name": "stderr",
     "output_type": "stream",
     "text": [
      "Iteration: 100%|██████████| 1/1 [00:00<00:00, 21.33it/s]\n",
      "/home/admin/anaconda3/envs/dgllife/lib/python3.6/site-packages/sklearn/metrics/_classification.py:1248: UndefinedMetricWarning: Precision is ill-defined and being set to 0.0 due to no predicted samples. Use `zero_division` parameter to control this behavior.\n",
      "  _warn_prf(average, modifier, msg_start, len(result))\n",
      "/home/admin/anaconda3/envs/dgllife/lib/python3.6/site-packages/sklearn/metrics/_classification.py:873: RuntimeWarning: invalid value encountered in double_scalars\n",
      "  mcc = cov_ytyp / np.sqrt(cov_ytyt * cov_ypyp)\n",
      "/home/admin/anaconda3/envs/dgllife/lib/python3.6/site-packages/ipykernel_launcher.py:50: RuntimeWarning: invalid value encountered in long_scalars\n",
      "/home/admin/anaconda3/envs/dgllife/lib/python3.6/site-packages/ipykernel_launcher.py:51: RuntimeWarning: invalid value encountered in long_scalars\n",
      "/home/admin/anaconda3/envs/dgllife/lib/python3.6/site-packages/ipykernel_launcher.py:52: RuntimeWarning: invalid value encountered in double_scalars\n"
     ]
    },
    {
     "name": "stdout",
     "output_type": "stream",
     "text": [
      "{'tn': 17, 'fp': 0, 'fn': 15, 'tp': 0}\n",
      "nan\n",
      "OrderedDict([('acc', 0.53125), ('auc_roc', 0.7686274509803922), ('recall', 0.0), ('precision', 0.0), ('f1', 0.0), ('kappa', 0.0), ('mcc', 0.0), ('auc_prc', 0.7850863990249297)])\n",
      "{'混淆矩阵 acc': 0.53125, 'recall_': 0.0, 'precision_': nan, 'f1_': nan, 'mcc_': 0.0}\n"
     ]
    },
    {
     "name": "stderr",
     "output_type": "stream",
     "text": [
      "Iteration: 100%|██████████| 1/1 [00:00<00:00, 21.52it/s]\n",
      "/home/admin/anaconda3/envs/dgllife/lib/python3.6/site-packages/sklearn/metrics/_classification.py:1248: UndefinedMetricWarning: Precision is ill-defined and being set to 0.0 due to no predicted samples. Use `zero_division` parameter to control this behavior.\n",
      "  _warn_prf(average, modifier, msg_start, len(result))\n",
      "/home/admin/anaconda3/envs/dgllife/lib/python3.6/site-packages/sklearn/metrics/_classification.py:873: RuntimeWarning: invalid value encountered in double_scalars\n",
      "  mcc = cov_ytyp / np.sqrt(cov_ytyt * cov_ypyp)\n",
      "/home/admin/anaconda3/envs/dgllife/lib/python3.6/site-packages/ipykernel_launcher.py:50: RuntimeWarning: invalid value encountered in long_scalars\n",
      "/home/admin/anaconda3/envs/dgllife/lib/python3.6/site-packages/ipykernel_launcher.py:51: RuntimeWarning: invalid value encountered in long_scalars\n",
      "/home/admin/anaconda3/envs/dgllife/lib/python3.6/site-packages/ipykernel_launcher.py:52: RuntimeWarning: invalid value encountered in double_scalars\n"
     ]
    },
    {
     "name": "stdout",
     "output_type": "stream",
     "text": [
      "{'tn': 17, 'fp': 0, 'fn': 15, 'tp': 0}\n",
      "nan\n",
      "OrderedDict([('acc', 0.53125), ('auc_roc', 0.6549019607843136), ('recall', 0.0), ('precision', 0.0), ('f1', 0.0), ('kappa', 0.0), ('mcc', 0.0), ('auc_prc', 0.6520588026827395)])\n",
      "{'混淆矩阵 acc': 0.53125, 'recall_': 0.0, 'precision_': nan, 'f1_': nan, 'mcc_': 0.0}\n"
     ]
    },
    {
     "name": "stderr",
     "output_type": "stream",
     "text": [
      "Iteration: 100%|██████████| 1/1 [00:00<00:00, 21.39it/s]\n",
      "/home/admin/anaconda3/envs/dgllife/lib/python3.6/site-packages/sklearn/metrics/_classification.py:1248: UndefinedMetricWarning: Precision is ill-defined and being set to 0.0 due to no predicted samples. Use `zero_division` parameter to control this behavior.\n",
      "  _warn_prf(average, modifier, msg_start, len(result))\n",
      "/home/admin/anaconda3/envs/dgllife/lib/python3.6/site-packages/sklearn/metrics/_classification.py:873: RuntimeWarning: invalid value encountered in double_scalars\n",
      "  mcc = cov_ytyp / np.sqrt(cov_ytyt * cov_ypyp)\n",
      "/home/admin/anaconda3/envs/dgllife/lib/python3.6/site-packages/ipykernel_launcher.py:50: RuntimeWarning: invalid value encountered in long_scalars\n",
      "/home/admin/anaconda3/envs/dgllife/lib/python3.6/site-packages/ipykernel_launcher.py:51: RuntimeWarning: invalid value encountered in long_scalars\n",
      "/home/admin/anaconda3/envs/dgllife/lib/python3.6/site-packages/ipykernel_launcher.py:52: RuntimeWarning: invalid value encountered in double_scalars\n"
     ]
    },
    {
     "name": "stdout",
     "output_type": "stream",
     "text": [
      "{'tn': 17, 'fp': 0, 'fn': 15, 'tp': 0}\n",
      "nan\n",
      "OrderedDict([('acc', 0.53125), ('auc_roc', 0.7803921568627451), ('recall', 0.0), ('precision', 0.0), ('f1', 0.0), ('kappa', 0.0), ('mcc', 0.0), ('auc_prc', 0.7930208842927483)])\n",
      "{'混淆矩阵 acc': 0.53125, 'recall_': 0.0, 'precision_': nan, 'f1_': nan, 'mcc_': 0.0}\n"
     ]
    },
    {
     "name": "stderr",
     "output_type": "stream",
     "text": [
      "Iteration: 100%|██████████| 1/1 [00:00<00:00, 21.59it/s]\n",
      "/home/admin/anaconda3/envs/dgllife/lib/python3.6/site-packages/ipykernel_launcher.py:13: RuntimeWarning: invalid value encountered in long_scalars\n",
      "  del sys.path[0]\n",
      "/home/admin/anaconda3/envs/dgllife/lib/python3.6/site-packages/sklearn/metrics/_classification.py:1248: UndefinedMetricWarning: Precision is ill-defined and being set to 0.0 due to no predicted samples. Use `zero_division` parameter to control this behavior.\n",
      "  _warn_prf(average, modifier, msg_start, len(result))\n",
      "/home/admin/anaconda3/envs/dgllife/lib/python3.6/site-packages/sklearn/metrics/_classification.py:873: RuntimeWarning: invalid value encountered in double_scalars\n",
      "  mcc = cov_ytyp / np.sqrt(cov_ytyt * cov_ypyp)\n",
      "/home/admin/anaconda3/envs/dgllife/lib/python3.6/site-packages/ipykernel_launcher.py:13: RuntimeWarning: invalid value encountered in long_scalars\n",
      "  del sys.path[0]\n",
      "/home/admin/anaconda3/envs/dgllife/lib/python3.6/site-packages/sklearn/metrics/_classification.py:1248: UndefinedMetricWarning: Precision is ill-defined and being set to 0.0 due to no predicted samples. Use `zero_division` parameter to control this behavior.\n",
      "  _warn_prf(average, modifier, msg_start, len(result))\n",
      "/home/admin/anaconda3/envs/dgllife/lib/python3.6/site-packages/sklearn/metrics/_classification.py:873: RuntimeWarning: invalid value encountered in double_scalars\n",
      "  mcc = cov_ytyp / np.sqrt(cov_ytyt * cov_ypyp)\n",
      "/home/admin/anaconda3/envs/dgllife/lib/python3.6/site-packages/ipykernel_launcher.py:13: RuntimeWarning: invalid value encountered in long_scalars\n",
      "  del sys.path[0]\n",
      "/home/admin/anaconda3/envs/dgllife/lib/python3.6/site-packages/sklearn/metrics/_classification.py:1248: UndefinedMetricWarning: Precision is ill-defined and being set to 0.0 due to no predicted samples. Use `zero_division` parameter to control this behavior.\n",
      "  _warn_prf(average, modifier, msg_start, len(result))\n",
      "/home/admin/anaconda3/envs/dgllife/lib/python3.6/site-packages/sklearn/metrics/_classification.py:873: RuntimeWarning: invalid value encountered in double_scalars\n",
      "  mcc = cov_ytyp / np.sqrt(cov_ytyt * cov_ypyp)\n",
      "/home/admin/anaconda3/envs/dgllife/lib/python3.6/site-packages/ipykernel_launcher.py:13: RuntimeWarning: invalid value encountered in long_scalars\n",
      "  del sys.path[0]\n",
      "/home/admin/anaconda3/envs/dgllife/lib/python3.6/site-packages/sklearn/metrics/_classification.py:1248: UndefinedMetricWarning: Precision is ill-defined and being set to 0.0 due to no predicted samples. Use `zero_division` parameter to control this behavior.\n",
      "  _warn_prf(average, modifier, msg_start, len(result))\n",
      "/home/admin/anaconda3/envs/dgllife/lib/python3.6/site-packages/sklearn/metrics/_classification.py:873: RuntimeWarning: invalid value encountered in double_scalars\n",
      "  mcc = cov_ytyp / np.sqrt(cov_ytyt * cov_ypyp)\n",
      "/home/admin/anaconda3/envs/dgllife/lib/python3.6/site-packages/ipykernel_launcher.py:13: RuntimeWarning: invalid value encountered in long_scalars\n",
      "  del sys.path[0]\n",
      "/home/admin/anaconda3/envs/dgllife/lib/python3.6/site-packages/sklearn/metrics/_classification.py:1248: UndefinedMetricWarning: Precision is ill-defined and being set to 0.0 due to no predicted samples. Use `zero_division` parameter to control this behavior.\n",
      "  _warn_prf(average, modifier, msg_start, len(result))\n",
      "/home/admin/anaconda3/envs/dgllife/lib/python3.6/site-packages/sklearn/metrics/_classification.py:873: RuntimeWarning: invalid value encountered in double_scalars\n",
      "  mcc = cov_ytyp / np.sqrt(cov_ytyt * cov_ypyp)\n",
      "/home/admin/anaconda3/envs/dgllife/lib/python3.6/site-packages/ipykernel_launcher.py:13: RuntimeWarning: invalid value encountered in long_scalars\n",
      "  del sys.path[0]\n",
      "/home/admin/anaconda3/envs/dgllife/lib/python3.6/site-packages/sklearn/metrics/_classification.py:1248: UndefinedMetricWarning: Precision is ill-defined and being set to 0.0 due to no predicted samples. Use `zero_division` parameter to control this behavior.\n",
      "  _warn_prf(average, modifier, msg_start, len(result))\n",
      "/home/admin/anaconda3/envs/dgllife/lib/python3.6/site-packages/sklearn/metrics/_classification.py:873: RuntimeWarning: invalid value encountered in double_scalars\n",
      "  mcc = cov_ytyp / np.sqrt(cov_ytyt * cov_ypyp)\n",
      "/home/admin/anaconda3/envs/dgllife/lib/python3.6/site-packages/ipykernel_launcher.py:13: RuntimeWarning: invalid value encountered in long_scalars\n",
      "  del sys.path[0]\n",
      "/home/admin/anaconda3/envs/dgllife/lib/python3.6/site-packages/sklearn/metrics/_classification.py:1248: UndefinedMetricWarning: Precision is ill-defined and being set to 0.0 due to no predicted samples. Use `zero_division` parameter to control this behavior.\n",
      "  _warn_prf(average, modifier, msg_start, len(result))\n",
      "/home/admin/anaconda3/envs/dgllife/lib/python3.6/site-packages/sklearn/metrics/_classification.py:873: RuntimeWarning: invalid value encountered in double_scalars\n",
      "  mcc = cov_ytyp / np.sqrt(cov_ytyt * cov_ypyp)\n",
      "/home/admin/anaconda3/envs/dgllife/lib/python3.6/site-packages/ipykernel_launcher.py:13: RuntimeWarning: invalid value encountered in long_scalars\n",
      "  del sys.path[0]\n",
      "/home/admin/anaconda3/envs/dgllife/lib/python3.6/site-packages/sklearn/metrics/_classification.py:1248: UndefinedMetricWarning: Precision is ill-defined and being set to 0.0 due to no predicted samples. Use `zero_division` parameter to control this behavior.\n",
      "  _warn_prf(average, modifier, msg_start, len(result))\n",
      "/home/admin/anaconda3/envs/dgllife/lib/python3.6/site-packages/sklearn/metrics/_classification.py:873: RuntimeWarning: invalid value encountered in double_scalars\n",
      "  mcc = cov_ytyp / np.sqrt(cov_ytyt * cov_ypyp)\n"
     ]
    },
    {
     "name": "stdout",
     "output_type": "stream",
     "text": [
      "{'tn': 16, 'fp': 1, 'fn': 8, 'tp': 7}\n",
      "0.875\n",
      "OrderedDict([('acc', 0.71875), ('auc_roc', 0.796078431372549), ('recall', 0.4666666666666667), ('precision', 0.875), ('f1', 0.608695652173913), ('kappa', 0.4193548387096774), ('mcc', 0.4700159919404217), ('auc_prc', 0.814612790295743)])\n",
      "{'混淆矩阵 acc': 0.71875, 'recall_': 0.4666666666666667, 'precision_': 0.875, 'f1_': 0.608695652173913, 'mcc_': 0.47001599194037375}\n",
      "acc:0.5625±0.05929270612815711\n",
      "predict_result/6108_AR_pre_32_AR_10_GAT_1008/\n"
     ]
    }
   ],
   "source": [
    "args_interface['train_result_path'] = 'result/6108_AR_NURA_GAT_0920'\n",
    "args_interface['inference_result_path'] = 'predict_result/6108_AR_pre_32_AR_10_GAT_1008/'\n",
    "path = args_interface['train_result_path']\n",
    "modelName = 'GAT_bst_'\n",
    "repetitions = 10\n",
    "args_interface = loadConfiguration(args_interface)\n",
    "data_df,predict_data = getResults(args_interface,modelName,repetitions,path)\n",
    "result = GetPreditcTable(predict_data,tureData,modelName,args_interface['inference_result_path'])"
   ]
  },
  {
   "cell_type": "code",
   "execution_count": 13,
   "id": "d1e24aba",
   "metadata": {},
   "outputs": [
    {
     "name": "stdout",
     "output_type": "stream",
     "text": [
      "GAT_bst_\n"
     ]
    },
    {
     "data": {
      "text/html": [
       "<div>\n",
       "<style scoped>\n",
       "    .dataframe tbody tr th:only-of-type {\n",
       "        vertical-align: middle;\n",
       "    }\n",
       "\n",
       "    .dataframe tbody tr th {\n",
       "        vertical-align: top;\n",
       "    }\n",
       "\n",
       "    .dataframe thead th {\n",
       "        text-align: right;\n",
       "    }\n",
       "</style>\n",
       "<table border=\"1\" class=\"dataframe\">\n",
       "  <thead>\n",
       "    <tr style=\"text-align: right;\">\n",
       "      <th></th>\n",
       "      <th>acc</th>\n",
       "      <th>auc_roc</th>\n",
       "      <th>recall</th>\n",
       "      <th>precision</th>\n",
       "      <th>f1</th>\n",
       "      <th>kappa</th>\n",
       "      <th>mcc</th>\n",
       "      <th>auc_prc</th>\n",
       "    </tr>\n",
       "  </thead>\n",
       "  <tbody>\n",
       "    <tr>\n",
       "      <th>0</th>\n",
       "      <td>0.531250</td>\n",
       "      <td>0.670588</td>\n",
       "      <td>0.000000</td>\n",
       "      <td>0.000000</td>\n",
       "      <td>0.000000</td>\n",
       "      <td>0.000000</td>\n",
       "      <td>0.000000</td>\n",
       "      <td>0.696115</td>\n",
       "    </tr>\n",
       "    <tr>\n",
       "      <th>1</th>\n",
       "      <td>0.531250</td>\n",
       "      <td>0.682353</td>\n",
       "      <td>0.000000</td>\n",
       "      <td>0.000000</td>\n",
       "      <td>0.000000</td>\n",
       "      <td>0.000000</td>\n",
       "      <td>0.000000</td>\n",
       "      <td>0.698011</td>\n",
       "    </tr>\n",
       "    <tr>\n",
       "      <th>2</th>\n",
       "      <td>0.625000</td>\n",
       "      <td>0.811765</td>\n",
       "      <td>0.266667</td>\n",
       "      <td>0.800000</td>\n",
       "      <td>0.400000</td>\n",
       "      <td>0.216327</td>\n",
       "      <td>0.285653</td>\n",
       "      <td>0.768949</td>\n",
       "    </tr>\n",
       "    <tr>\n",
       "      <th>3</th>\n",
       "      <td>0.531250</td>\n",
       "      <td>0.709804</td>\n",
       "      <td>0.000000</td>\n",
       "      <td>0.000000</td>\n",
       "      <td>0.000000</td>\n",
       "      <td>0.000000</td>\n",
       "      <td>0.000000</td>\n",
       "      <td>0.716641</td>\n",
       "    </tr>\n",
       "    <tr>\n",
       "      <th>4</th>\n",
       "      <td>0.562500</td>\n",
       "      <td>0.792157</td>\n",
       "      <td>0.066667</td>\n",
       "      <td>1.000000</td>\n",
       "      <td>0.125000</td>\n",
       "      <td>0.070539</td>\n",
       "      <td>0.191204</td>\n",
       "      <td>0.761347</td>\n",
       "    </tr>\n",
       "    <tr>\n",
       "      <th>5</th>\n",
       "      <td>0.531250</td>\n",
       "      <td>0.619608</td>\n",
       "      <td>0.000000</td>\n",
       "      <td>0.000000</td>\n",
       "      <td>0.000000</td>\n",
       "      <td>0.000000</td>\n",
       "      <td>0.000000</td>\n",
       "      <td>0.696006</td>\n",
       "    </tr>\n",
       "    <tr>\n",
       "      <th>6</th>\n",
       "      <td>0.531250</td>\n",
       "      <td>0.768627</td>\n",
       "      <td>0.000000</td>\n",
       "      <td>0.000000</td>\n",
       "      <td>0.000000</td>\n",
       "      <td>0.000000</td>\n",
       "      <td>0.000000</td>\n",
       "      <td>0.785086</td>\n",
       "    </tr>\n",
       "    <tr>\n",
       "      <th>7</th>\n",
       "      <td>0.531250</td>\n",
       "      <td>0.654902</td>\n",
       "      <td>0.000000</td>\n",
       "      <td>0.000000</td>\n",
       "      <td>0.000000</td>\n",
       "      <td>0.000000</td>\n",
       "      <td>0.000000</td>\n",
       "      <td>0.652059</td>\n",
       "    </tr>\n",
       "    <tr>\n",
       "      <th>8</th>\n",
       "      <td>0.531250</td>\n",
       "      <td>0.780392</td>\n",
       "      <td>0.000000</td>\n",
       "      <td>0.000000</td>\n",
       "      <td>0.000000</td>\n",
       "      <td>0.000000</td>\n",
       "      <td>0.000000</td>\n",
       "      <td>0.793021</td>\n",
       "    </tr>\n",
       "    <tr>\n",
       "      <th>9</th>\n",
       "      <td>0.718750</td>\n",
       "      <td>0.796078</td>\n",
       "      <td>0.466667</td>\n",
       "      <td>0.875000</td>\n",
       "      <td>0.608696</td>\n",
       "      <td>0.419355</td>\n",
       "      <td>0.470016</td>\n",
       "      <td>0.814613</td>\n",
       "    </tr>\n",
       "    <tr>\n",
       "      <th>Mean</th>\n",
       "      <td>0.562500</td>\n",
       "      <td>0.728627</td>\n",
       "      <td>0.080000</td>\n",
       "      <td>0.267500</td>\n",
       "      <td>0.113370</td>\n",
       "      <td>0.070622</td>\n",
       "      <td>0.094687</td>\n",
       "      <td>0.738185</td>\n",
       "    </tr>\n",
       "    <tr>\n",
       "      <th>Std</th>\n",
       "      <td>0.059293</td>\n",
       "      <td>0.065545</td>\n",
       "      <td>0.151438</td>\n",
       "      <td>0.411104</td>\n",
       "      <td>0.204355</td>\n",
       "      <td>0.133325</td>\n",
       "      <td>0.157929</td>\n",
       "      <td>0.050572</td>\n",
       "    </tr>\n",
       "    <tr>\n",
       "      <th>avg</th>\n",
       "      <td>0.531250</td>\n",
       "      <td>0.768627</td>\n",
       "      <td>0.000000</td>\n",
       "      <td>0.000000</td>\n",
       "      <td>0.000000</td>\n",
       "      <td>0.000000</td>\n",
       "      <td>0.000000</td>\n",
       "      <td>0.805094</td>\n",
       "    </tr>\n",
       "  </tbody>\n",
       "</table>\n",
       "</div>"
      ],
      "text/plain": [
       "           acc   auc_roc    recall  precision        f1     kappa       mcc  \\\n",
       "0     0.531250  0.670588  0.000000   0.000000  0.000000  0.000000  0.000000   \n",
       "1     0.531250  0.682353  0.000000   0.000000  0.000000  0.000000  0.000000   \n",
       "2     0.625000  0.811765  0.266667   0.800000  0.400000  0.216327  0.285653   \n",
       "3     0.531250  0.709804  0.000000   0.000000  0.000000  0.000000  0.000000   \n",
       "4     0.562500  0.792157  0.066667   1.000000  0.125000  0.070539  0.191204   \n",
       "5     0.531250  0.619608  0.000000   0.000000  0.000000  0.000000  0.000000   \n",
       "6     0.531250  0.768627  0.000000   0.000000  0.000000  0.000000  0.000000   \n",
       "7     0.531250  0.654902  0.000000   0.000000  0.000000  0.000000  0.000000   \n",
       "8     0.531250  0.780392  0.000000   0.000000  0.000000  0.000000  0.000000   \n",
       "9     0.718750  0.796078  0.466667   0.875000  0.608696  0.419355  0.470016   \n",
       "Mean  0.562500  0.728627  0.080000   0.267500  0.113370  0.070622  0.094687   \n",
       "Std   0.059293  0.065545  0.151438   0.411104  0.204355  0.133325  0.157929   \n",
       "avg   0.531250  0.768627  0.000000   0.000000  0.000000  0.000000  0.000000   \n",
       "\n",
       "       auc_prc  \n",
       "0     0.696115  \n",
       "1     0.698011  \n",
       "2     0.768949  \n",
       "3     0.716641  \n",
       "4     0.761347  \n",
       "5     0.696006  \n",
       "6     0.785086  \n",
       "7     0.652059  \n",
       "8     0.793021  \n",
       "9     0.814613  \n",
       "Mean  0.738185  \n",
       "Std   0.050572  \n",
       "avg   0.805094  "
      ]
     },
     "execution_count": 13,
     "metadata": {},
     "output_type": "execute_result"
    }
   ],
   "source": [
    "print(modelName)\n",
    "result"
   ]
  },
  {
   "cell_type": "code",
   "execution_count": 14,
   "id": "3c80bca8",
   "metadata": {},
   "outputs": [
    {
     "name": "stdout",
     "output_type": "stream",
     "text": [
      "Directory predict_result/6108_AR_pre_32_AR_10_GCN_1008/ already exists.\n"
     ]
    },
    {
     "name": "stderr",
     "output_type": "stream",
     "text": [
      "Iteration: 100%|██████████| 1/1 [00:00<00:00, 21.45it/s]\n"
     ]
    },
    {
     "name": "stdout",
     "output_type": "stream",
     "text": [
      "{'tn': 5, 'fp': 12, 'fn': 2, 'tp': 13}\n",
      "0.52\n",
      "OrderedDict([('acc', 0.5625), ('auc_roc', 0.6549019607843137), ('recall', 0.8666666666666667), ('precision', 0.52), ('f1', 0.65), ('kappa', 0.15471698113207544), ('mcc', 0.19408623801577188), ('auc_prc', 0.545489962750574)])\n",
      "{'混淆矩阵 acc': 0.5625, 'recall_': 0.8666666666666667, 'precision_': 0.52, 'f1_': 0.65, 'mcc_': 0.19408623801575012}\n"
     ]
    },
    {
     "name": "stderr",
     "output_type": "stream",
     "text": [
      "Iteration: 100%|██████████| 1/1 [00:00<00:00, 21.81it/s]\n"
     ]
    },
    {
     "name": "stdout",
     "output_type": "stream",
     "text": [
      "{'tn': 13, 'fp': 4, 'fn': 4, 'tp': 11}\n",
      "0.7333333333333333\n",
      "OrderedDict([('acc', 0.75), ('auc_roc', 0.8274509803921568), ('recall', 0.7333333333333333), ('precision', 0.7333333333333333), ('f1', 0.7333333333333333), ('kappa', 0.4980392156862745), ('mcc', 0.4980392156862745), ('auc_prc', 0.7025315730494759)])\n",
      "{'混淆矩阵 acc': 0.75, 'recall_': 0.7333333333333333, 'precision_': 0.7333333333333333, 'f1_': 0.7333333333333333, 'mcc_': 0.4980392156862362}\n"
     ]
    },
    {
     "name": "stderr",
     "output_type": "stream",
     "text": [
      "Iteration: 100%|██████████| 1/1 [00:00<00:00, 21.81it/s]\n"
     ]
    },
    {
     "name": "stdout",
     "output_type": "stream",
     "text": [
      "{'tn': 9, 'fp': 8, 'fn': 1, 'tp': 14}\n",
      "0.6363636363636364\n",
      "OrderedDict([('acc', 0.71875), ('auc_roc', 0.7490196078431373), ('recall', 0.9333333333333333), ('precision', 0.6363636363636364), ('f1', 0.7567567567567568), ('kappa', 0.45038167938931295), ('mcc', 0.49819639048648384), ('auc_prc', 0.6366953040613231)])\n",
      "{'混淆矩阵 acc': 0.71875, 'recall_': 0.9333333333333333, 'precision_': 0.6363636363636364, 'f1_': 0.7567567567567568, 'mcc_': 0.4981963904864395}\n"
     ]
    },
    {
     "name": "stderr",
     "output_type": "stream",
     "text": [
      "Iteration: 100%|██████████| 1/1 [00:00<00:00, 21.94it/s]\n"
     ]
    },
    {
     "name": "stdout",
     "output_type": "stream",
     "text": [
      "{'tn': 12, 'fp': 5, 'fn': 8, 'tp': 7}\n",
      "0.5833333333333334\n",
      "OrderedDict([('acc', 0.59375), ('auc_roc', 0.6196078431372549), ('recall', 0.4666666666666667), ('precision', 0.5833333333333334), ('f1', 0.5185185185185186), ('kappa', 0.17460317460317465), ('mcc', 0.17785945835997752), ('auc_prc', 0.49975468172262416)])\n",
      "{'混淆矩阵 acc': 0.59375, 'recall_': 0.4666666666666667, 'precision_': 0.5833333333333334, 'f1_': 0.5185185185185186, 'mcc_': 0.17785945835996297}\n"
     ]
    },
    {
     "name": "stderr",
     "output_type": "stream",
     "text": [
      "Iteration: 100%|██████████| 1/1 [00:00<00:00, 21.81it/s]\n"
     ]
    },
    {
     "name": "stdout",
     "output_type": "stream",
     "text": [
      "{'tn': 10, 'fp': 7, 'fn': 4, 'tp': 11}\n",
      "0.6111111111111112\n",
      "OrderedDict([('acc', 0.65625), ('auc_roc', 0.7647058823529411), ('recall', 0.7333333333333333), ('precision', 0.6111111111111112), ('f1', 0.6666666666666666), ('kappa', 0.3178294573643411), ('mcc', 0.3234770633596198), ('auc_prc', 0.6562120955717448)])\n",
      "{'混淆矩阵 acc': 0.65625, 'recall_': 0.7333333333333333, 'precision_': 0.6111111111111112, 'f1_': 0.6666666666666666, 'mcc_': 0.3234770633595946}\n"
     ]
    },
    {
     "name": "stderr",
     "output_type": "stream",
     "text": [
      "Iteration: 100%|██████████| 1/1 [00:00<00:00, 21.71it/s]\n"
     ]
    },
    {
     "name": "stdout",
     "output_type": "stream",
     "text": [
      "{'tn': 0, 'fp': 17, 'fn': 1, 'tp': 14}\n",
      "0.45161290322580644\n",
      "OrderedDict([('acc', 0.4375), ('auc_roc', 0.7019607843137254), ('recall', 0.9333333333333333), ('precision', 0.45161290322580644), ('f1', 0.608695652173913), ('kappa', -0.0627306273062731), ('mcc', -0.19120444499264716), ('auc_prc', 0.6001926359076313)])\n",
      "{'混淆矩阵 acc': 0.4375, 'recall_': 0.9333333333333333, 'precision_': 0.45161290322580644, 'f1_': 0.608695652173913, 'mcc_': -0.19120444499252623}\n"
     ]
    },
    {
     "name": "stderr",
     "output_type": "stream",
     "text": [
      "Iteration: 100%|██████████| 1/1 [00:00<00:00, 22.43it/s]\n"
     ]
    },
    {
     "name": "stdout",
     "output_type": "stream",
     "text": [
      "{'tn': 9, 'fp': 8, 'fn': 3, 'tp': 12}\n",
      "0.6\n",
      "OrderedDict([('acc', 0.65625), ('auc_roc', 0.7411764705882353), ('recall', 0.8), ('precision', 0.6), ('f1', 0.6857142857142857), ('kappa', 0.32307692307692304), ('mcc', 0.33954987505086615), ('auc_prc', 0.6493014880713972)])\n",
      "{'混淆矩阵 acc': 0.65625, 'recall_': 0.8, 'precision_': 0.6, 'f1_': 0.6857142857142857, 'mcc_': 0.33954987505083845}\n"
     ]
    },
    {
     "name": "stderr",
     "output_type": "stream",
     "text": [
      "Iteration: 100%|██████████| 1/1 [00:00<00:00, 21.90it/s]\n"
     ]
    },
    {
     "name": "stdout",
     "output_type": "stream",
     "text": [
      "{'tn': 9, 'fp': 8, 'fn': 2, 'tp': 13}\n",
      "0.6190476190476191\n",
      "OrderedDict([('acc', 0.6875), ('auc_roc', 0.8666666666666666), ('recall', 0.8666666666666667), ('precision', 0.6190476190476191), ('f1', 0.7222222222222222), ('kappa', 0.3869731800766284), ('mcc', 0.4161455870818984), ('auc_prc', 0.7565450845450846)])\n",
      "{'混淆矩阵 acc': 0.6875, 'recall_': 0.8666666666666667, 'precision_': 0.6190476190476191, 'f1_': 0.7222222222222222, 'mcc_': 0.41614558708186306}\n"
     ]
    },
    {
     "name": "stderr",
     "output_type": "stream",
     "text": [
      "Iteration: 100%|██████████| 1/1 [00:00<00:00, 21.63it/s]\n"
     ]
    },
    {
     "name": "stdout",
     "output_type": "stream",
     "text": [
      "{'tn': 6, 'fp': 11, 'fn': 4, 'tp': 11}\n",
      "0.5\n",
      "OrderedDict([('acc', 0.53125), ('auc_roc', 0.5490196078431372), ('recall', 0.7333333333333333), ('precision', 0.5), ('f1', 0.5945945945945945), ('kappa', 0.08396946564885499), ('mcc', 0.09288407280256479), ('auc_prc', 0.5229203647323276)])\n",
      "{'混淆矩阵 acc': 0.53125, 'recall_': 0.7333333333333333, 'precision_': 0.5, 'f1_': 0.5945945945945945, 'mcc_': 0.09288407280255652}\n"
     ]
    },
    {
     "name": "stderr",
     "output_type": "stream",
     "text": [
      "Iteration: 100%|██████████| 1/1 [00:00<00:00, 21.70it/s]\n",
      "/home/admin/anaconda3/envs/dgllife/lib/python3.6/site-packages/sklearn/metrics/_classification.py:873: RuntimeWarning: invalid value encountered in double_scalars\n",
      "  mcc = cov_ytyp / np.sqrt(cov_ytyt * cov_ypyp)\n",
      "/home/admin/anaconda3/envs/dgllife/lib/python3.6/site-packages/sklearn/metrics/_classification.py:873: RuntimeWarning: invalid value encountered in double_scalars\n",
      "  mcc = cov_ytyp / np.sqrt(cov_ytyt * cov_ypyp)\n"
     ]
    },
    {
     "name": "stdout",
     "output_type": "stream",
     "text": [
      "{'tn': 0, 'fp': 17, 'fn': 0, 'tp': 15}\n",
      "0.46875\n",
      "OrderedDict([('acc', 0.46875), ('auc_roc', 0.5843137254901961), ('recall', 1.0), ('precision', 0.46875), ('f1', 0.6382978723404256), ('kappa', 0.0), ('mcc', 0.0), ('auc_prc', 0.5000371251279916)])\n",
      "{'混淆矩阵 acc': 0.46875, 'recall_': 1.0, 'precision_': 0.46875, 'f1_': 0.6382978723404256, 'mcc_': 0.0}\n",
      "acc:0.60625±0.1\n",
      "predict_result/6108_AR_pre_32_AR_10_GCN_1008/\n"
     ]
    }
   ],
   "source": [
    "args_interface['train_result_path'] = 'result/6108_AR_NURA_GCN_0920'\n",
    "args_interface['inference_result_path'] = 'predict_result/6108_AR_pre_32_AR_10_GCN_1008/'\n",
    "path = args_interface['train_result_path']\n",
    "modelName = 'GCN_bst_'\n",
    "repetitions = 10\n",
    "args_interface = loadConfiguration(args_interface)\n",
    "data_df,predict_data = getResults(args_interface,modelName,repetitions,path)\n",
    "result = GetPreditcTable(predict_data,tureData,modelName,args_interface['inference_result_path'])"
   ]
  },
  {
   "cell_type": "code",
   "execution_count": 15,
   "id": "8ed8a812",
   "metadata": {},
   "outputs": [
    {
     "name": "stdout",
     "output_type": "stream",
     "text": [
      "GCN_bst_\n"
     ]
    },
    {
     "data": {
      "text/html": [
       "<div>\n",
       "<style scoped>\n",
       "    .dataframe tbody tr th:only-of-type {\n",
       "        vertical-align: middle;\n",
       "    }\n",
       "\n",
       "    .dataframe tbody tr th {\n",
       "        vertical-align: top;\n",
       "    }\n",
       "\n",
       "    .dataframe thead th {\n",
       "        text-align: right;\n",
       "    }\n",
       "</style>\n",
       "<table border=\"1\" class=\"dataframe\">\n",
       "  <thead>\n",
       "    <tr style=\"text-align: right;\">\n",
       "      <th></th>\n",
       "      <th>acc</th>\n",
       "      <th>auc_roc</th>\n",
       "      <th>recall</th>\n",
       "      <th>precision</th>\n",
       "      <th>f1</th>\n",
       "      <th>kappa</th>\n",
       "      <th>mcc</th>\n",
       "      <th>auc_prc</th>\n",
       "    </tr>\n",
       "  </thead>\n",
       "  <tbody>\n",
       "    <tr>\n",
       "      <th>0</th>\n",
       "      <td>0.56250</td>\n",
       "      <td>0.654902</td>\n",
       "      <td>0.866667</td>\n",
       "      <td>0.520000</td>\n",
       "      <td>0.650000</td>\n",
       "      <td>0.154717</td>\n",
       "      <td>0.194086</td>\n",
       "      <td>0.545490</td>\n",
       "    </tr>\n",
       "    <tr>\n",
       "      <th>1</th>\n",
       "      <td>0.75000</td>\n",
       "      <td>0.827451</td>\n",
       "      <td>0.733333</td>\n",
       "      <td>0.733333</td>\n",
       "      <td>0.733333</td>\n",
       "      <td>0.498039</td>\n",
       "      <td>0.498039</td>\n",
       "      <td>0.702532</td>\n",
       "    </tr>\n",
       "    <tr>\n",
       "      <th>2</th>\n",
       "      <td>0.71875</td>\n",
       "      <td>0.749020</td>\n",
       "      <td>0.933333</td>\n",
       "      <td>0.636364</td>\n",
       "      <td>0.756757</td>\n",
       "      <td>0.450382</td>\n",
       "      <td>0.498196</td>\n",
       "      <td>0.636695</td>\n",
       "    </tr>\n",
       "    <tr>\n",
       "      <th>3</th>\n",
       "      <td>0.59375</td>\n",
       "      <td>0.619608</td>\n",
       "      <td>0.466667</td>\n",
       "      <td>0.583333</td>\n",
       "      <td>0.518519</td>\n",
       "      <td>0.174603</td>\n",
       "      <td>0.177859</td>\n",
       "      <td>0.499755</td>\n",
       "    </tr>\n",
       "    <tr>\n",
       "      <th>4</th>\n",
       "      <td>0.65625</td>\n",
       "      <td>0.764706</td>\n",
       "      <td>0.733333</td>\n",
       "      <td>0.611111</td>\n",
       "      <td>0.666667</td>\n",
       "      <td>0.317829</td>\n",
       "      <td>0.323477</td>\n",
       "      <td>0.656212</td>\n",
       "    </tr>\n",
       "    <tr>\n",
       "      <th>5</th>\n",
       "      <td>0.43750</td>\n",
       "      <td>0.701961</td>\n",
       "      <td>0.933333</td>\n",
       "      <td>0.451613</td>\n",
       "      <td>0.608696</td>\n",
       "      <td>-0.062731</td>\n",
       "      <td>-0.191204</td>\n",
       "      <td>0.600193</td>\n",
       "    </tr>\n",
       "    <tr>\n",
       "      <th>6</th>\n",
       "      <td>0.65625</td>\n",
       "      <td>0.741176</td>\n",
       "      <td>0.800000</td>\n",
       "      <td>0.600000</td>\n",
       "      <td>0.685714</td>\n",
       "      <td>0.323077</td>\n",
       "      <td>0.339550</td>\n",
       "      <td>0.649301</td>\n",
       "    </tr>\n",
       "    <tr>\n",
       "      <th>7</th>\n",
       "      <td>0.68750</td>\n",
       "      <td>0.866667</td>\n",
       "      <td>0.866667</td>\n",
       "      <td>0.619048</td>\n",
       "      <td>0.722222</td>\n",
       "      <td>0.386973</td>\n",
       "      <td>0.416146</td>\n",
       "      <td>0.756545</td>\n",
       "    </tr>\n",
       "    <tr>\n",
       "      <th>8</th>\n",
       "      <td>0.53125</td>\n",
       "      <td>0.549020</td>\n",
       "      <td>0.733333</td>\n",
       "      <td>0.500000</td>\n",
       "      <td>0.594595</td>\n",
       "      <td>0.083969</td>\n",
       "      <td>0.092884</td>\n",
       "      <td>0.522920</td>\n",
       "    </tr>\n",
       "    <tr>\n",
       "      <th>9</th>\n",
       "      <td>0.46875</td>\n",
       "      <td>0.584314</td>\n",
       "      <td>1.000000</td>\n",
       "      <td>0.468750</td>\n",
       "      <td>0.638298</td>\n",
       "      <td>0.000000</td>\n",
       "      <td>0.000000</td>\n",
       "      <td>0.500037</td>\n",
       "    </tr>\n",
       "    <tr>\n",
       "      <th>Mean</th>\n",
       "      <td>0.60625</td>\n",
       "      <td>0.705882</td>\n",
       "      <td>0.806667</td>\n",
       "      <td>0.572355</td>\n",
       "      <td>0.657480</td>\n",
       "      <td>0.232686</td>\n",
       "      <td>0.234903</td>\n",
       "      <td>0.606968</td>\n",
       "    </tr>\n",
       "    <tr>\n",
       "      <th>Std</th>\n",
       "      <td>0.10000</td>\n",
       "      <td>0.098306</td>\n",
       "      <td>0.144376</td>\n",
       "      <td>0.082381</td>\n",
       "      <td>0.068375</td>\n",
       "      <td>0.181662</td>\n",
       "      <td>0.212614</td>\n",
       "      <td>0.083920</td>\n",
       "    </tr>\n",
       "    <tr>\n",
       "      <th>avg</th>\n",
       "      <td>0.65625</td>\n",
       "      <td>0.800000</td>\n",
       "      <td>0.866667</td>\n",
       "      <td>0.590909</td>\n",
       "      <td>0.702703</td>\n",
       "      <td>0.328244</td>\n",
       "      <td>0.363092</td>\n",
       "      <td>0.705815</td>\n",
       "    </tr>\n",
       "  </tbody>\n",
       "</table>\n",
       "</div>"
      ],
      "text/plain": [
       "          acc   auc_roc    recall  precision        f1     kappa       mcc  \\\n",
       "0     0.56250  0.654902  0.866667   0.520000  0.650000  0.154717  0.194086   \n",
       "1     0.75000  0.827451  0.733333   0.733333  0.733333  0.498039  0.498039   \n",
       "2     0.71875  0.749020  0.933333   0.636364  0.756757  0.450382  0.498196   \n",
       "3     0.59375  0.619608  0.466667   0.583333  0.518519  0.174603  0.177859   \n",
       "4     0.65625  0.764706  0.733333   0.611111  0.666667  0.317829  0.323477   \n",
       "5     0.43750  0.701961  0.933333   0.451613  0.608696 -0.062731 -0.191204   \n",
       "6     0.65625  0.741176  0.800000   0.600000  0.685714  0.323077  0.339550   \n",
       "7     0.68750  0.866667  0.866667   0.619048  0.722222  0.386973  0.416146   \n",
       "8     0.53125  0.549020  0.733333   0.500000  0.594595  0.083969  0.092884   \n",
       "9     0.46875  0.584314  1.000000   0.468750  0.638298  0.000000  0.000000   \n",
       "Mean  0.60625  0.705882  0.806667   0.572355  0.657480  0.232686  0.234903   \n",
       "Std   0.10000  0.098306  0.144376   0.082381  0.068375  0.181662  0.212614   \n",
       "avg   0.65625  0.800000  0.866667   0.590909  0.702703  0.328244  0.363092   \n",
       "\n",
       "       auc_prc  \n",
       "0     0.545490  \n",
       "1     0.702532  \n",
       "2     0.636695  \n",
       "3     0.499755  \n",
       "4     0.656212  \n",
       "5     0.600193  \n",
       "6     0.649301  \n",
       "7     0.756545  \n",
       "8     0.522920  \n",
       "9     0.500037  \n",
       "Mean  0.606968  \n",
       "Std   0.083920  \n",
       "avg   0.705815  "
      ]
     },
     "execution_count": 15,
     "metadata": {},
     "output_type": "execute_result"
    }
   ],
   "source": [
    "print(modelName)\n",
    "result"
   ]
  }
 ],
 "metadata": {
  "kernelspec": {
   "display_name": "Python [conda env:dgllife]",
   "language": "python",
   "name": "conda-env-dgllife-py"
  },
  "language_info": {
   "codemirror_mode": {
    "name": "ipython",
    "version": 3
   },
   "file_extension": ".py",
   "mimetype": "text/x-python",
   "name": "python",
   "nbconvert_exporter": "python",
   "pygments_lexer": "ipython3",
   "version": "3.6.13"
  }
 },
 "nbformat": 4,
 "nbformat_minor": 5
}
